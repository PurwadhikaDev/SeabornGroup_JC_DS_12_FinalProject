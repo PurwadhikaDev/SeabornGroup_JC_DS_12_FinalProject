{
 "cells": [
  {
   "cell_type": "code",
   "execution_count": 1,
   "metadata": {},
   "outputs": [],
   "source": [
    "import numpy as np\n",
    "import pandas as pd\n",
    "import matplotlib.pyplot as plt\n",
    "import seaborn as sns\n",
    "import warnings\n",
    "warnings.filterwarnings('ignore')"
   ]
  },
  {
   "cell_type": "code",
   "execution_count": 2,
   "metadata": {},
   "outputs": [],
   "source": [
    "pd.options.display.max_columns = 999\n",
    "sns.set_style('whitegrid')\n",
    "\n",
    "# https://metadata.phila.gov/#home/datasetdetails/5543865f20583086178c4ee5/representationdetails/55d624fdad35c7e854cb21a4/"
   ]
  },
  {
   "cell_type": "code",
   "execution_count": 3,
   "metadata": {},
   "outputs": [],
   "source": [
    "from sklearn.model_selection import train_test_split, GridSearchCV, StratifiedKFold\n",
    "from sklearn.metrics import accuracy_score, precision_score, recall_score, f1_score, confusion_matrix, classification_report\n",
    "\n",
    "from sklearn.compose import ColumnTransformer\n",
    "from sklearn.pipeline import Pipeline\n",
    "from sklearn.impute import SimpleImputer\n",
    "\n",
    "from sklearn.preprocessing import RobustScaler, OneHotEncoder\n",
    "\n",
    "from sklearn.neighbors import KNeighborsClassifier\n",
    "from sklearn.svm import SVC\n",
    "from sklearn.linear_model import LogisticRegression\n",
    "from sklearn.tree import DecisionTreeClassifier\n",
    "from sklearn.ensemble import RandomForestClassifier"
   ]
  },
  {
   "cell_type": "code",
   "execution_count": 4,
   "metadata": {},
   "outputs": [
    {
     "data": {
      "text/html": [
       "<div>\n",
       "<style scoped>\n",
       "    .dataframe tbody tr th:only-of-type {\n",
       "        vertical-align: middle;\n",
       "    }\n",
       "\n",
       "    .dataframe tbody tr th {\n",
       "        vertical-align: top;\n",
       "    }\n",
       "\n",
       "    .dataframe thead th {\n",
       "        text-align: right;\n",
       "    }\n",
       "</style>\n",
       "<table border=\"1\" class=\"dataframe\">\n",
       "  <thead>\n",
       "    <tr style=\"text-align: right;\">\n",
       "      <th></th>\n",
       "      <th>basements</th>\n",
       "      <th>building_code_description</th>\n",
       "      <th>central_air</th>\n",
       "      <th>depth</th>\n",
       "      <th>exterior_condition</th>\n",
       "      <th>fireplaces</th>\n",
       "      <th>frontage</th>\n",
       "      <th>garage_type</th>\n",
       "      <th>interior_condition</th>\n",
       "      <th>location</th>\n",
       "      <th>market_value</th>\n",
       "      <th>number_of_bathrooms</th>\n",
       "      <th>number_of_bedrooms</th>\n",
       "      <th>number_of_rooms</th>\n",
       "      <th>number_stories</th>\n",
       "      <th>parcel_shape</th>\n",
       "      <th>street_designation</th>\n",
       "      <th>topography</th>\n",
       "      <th>total_area</th>\n",
       "      <th>total_livable_area</th>\n",
       "      <th>type_heater</th>\n",
       "      <th>view_type</th>\n",
       "      <th>year_built</th>\n",
       "      <th>zoning</th>\n",
       "      <th>building_description</th>\n",
       "      <th>section</th>\n",
       "      <th>segment</th>\n",
       "    </tr>\n",
       "  </thead>\n",
       "  <tbody>\n",
       "    <tr>\n",
       "      <th>0</th>\n",
       "      <td>0</td>\n",
       "      <td>ROW B/GAR 2 STY MASONRY</td>\n",
       "      <td>Y</td>\n",
       "      <td>90.00</td>\n",
       "      <td>4.0</td>\n",
       "      <td>0.0</td>\n",
       "      <td>29.17</td>\n",
       "      <td>A</td>\n",
       "      <td>4.0</td>\n",
       "      <td>220 WHARTON ST</td>\n",
       "      <td>257500.0</td>\n",
       "      <td>2.0</td>\n",
       "      <td>3.0</td>\n",
       "      <td>6.0</td>\n",
       "      <td>2.0</td>\n",
       "      <td>E</td>\n",
       "      <td>ST</td>\n",
       "      <td>6</td>\n",
       "      <td>2625.30</td>\n",
       "      <td>1266.0</td>\n",
       "      <td>H</td>\n",
       "      <td>I</td>\n",
       "      <td>1960.0</td>\n",
       "      <td>1</td>\n",
       "      <td>MASONRY</td>\n",
       "      <td>South</td>\n",
       "      <td>2</td>\n",
       "    </tr>\n",
       "    <tr>\n",
       "      <th>1</th>\n",
       "      <td>0</td>\n",
       "      <td>ROW B/GAR 2 STY MASONRY</td>\n",
       "      <td>Y</td>\n",
       "      <td>90.00</td>\n",
       "      <td>4.0</td>\n",
       "      <td>0.0</td>\n",
       "      <td>18.03</td>\n",
       "      <td>A</td>\n",
       "      <td>4.0</td>\n",
       "      <td>222 WHARTON ST</td>\n",
       "      <td>249400.0</td>\n",
       "      <td>2.0</td>\n",
       "      <td>3.0</td>\n",
       "      <td>6.0</td>\n",
       "      <td>2.0</td>\n",
       "      <td>E</td>\n",
       "      <td>ST</td>\n",
       "      <td>6</td>\n",
       "      <td>1622.70</td>\n",
       "      <td>1266.0</td>\n",
       "      <td>A</td>\n",
       "      <td>I</td>\n",
       "      <td>1960.0</td>\n",
       "      <td>1</td>\n",
       "      <td>MASONRY</td>\n",
       "      <td>South</td>\n",
       "      <td>2</td>\n",
       "    </tr>\n",
       "    <tr>\n",
       "      <th>2</th>\n",
       "      <td>0</td>\n",
       "      <td>ROW B/GAR 2 STY MASONRY</td>\n",
       "      <td>Y</td>\n",
       "      <td>90.00</td>\n",
       "      <td>4.0</td>\n",
       "      <td>0.0</td>\n",
       "      <td>18.05</td>\n",
       "      <td>A</td>\n",
       "      <td>4.0</td>\n",
       "      <td>224 WHARTON ST</td>\n",
       "      <td>249500.0</td>\n",
       "      <td>2.0</td>\n",
       "      <td>3.0</td>\n",
       "      <td>6.0</td>\n",
       "      <td>2.0</td>\n",
       "      <td>E</td>\n",
       "      <td>ST</td>\n",
       "      <td>6</td>\n",
       "      <td>1624.50</td>\n",
       "      <td>1266.0</td>\n",
       "      <td>A</td>\n",
       "      <td>I</td>\n",
       "      <td>1960.0</td>\n",
       "      <td>1</td>\n",
       "      <td>MASONRY</td>\n",
       "      <td>South</td>\n",
       "      <td>2</td>\n",
       "    </tr>\n",
       "    <tr>\n",
       "      <th>3</th>\n",
       "      <td>0</td>\n",
       "      <td>ROW B/GAR 2 STY MASONRY</td>\n",
       "      <td>Y</td>\n",
       "      <td>90.00</td>\n",
       "      <td>4.0</td>\n",
       "      <td>0.0</td>\n",
       "      <td>18.08</td>\n",
       "      <td>A</td>\n",
       "      <td>4.0</td>\n",
       "      <td>226 WHARTON ST</td>\n",
       "      <td>249500.0</td>\n",
       "      <td>2.0</td>\n",
       "      <td>3.0</td>\n",
       "      <td>6.0</td>\n",
       "      <td>2.0</td>\n",
       "      <td>E</td>\n",
       "      <td>ST</td>\n",
       "      <td>6</td>\n",
       "      <td>1627.20</td>\n",
       "      <td>1266.0</td>\n",
       "      <td>H</td>\n",
       "      <td>I</td>\n",
       "      <td>1960.0</td>\n",
       "      <td>1</td>\n",
       "      <td>MASONRY</td>\n",
       "      <td>South</td>\n",
       "      <td>2</td>\n",
       "    </tr>\n",
       "    <tr>\n",
       "      <th>4</th>\n",
       "      <td>0</td>\n",
       "      <td>ROW B/GAR 2 STY MASONRY</td>\n",
       "      <td>Y</td>\n",
       "      <td>90.00</td>\n",
       "      <td>4.0</td>\n",
       "      <td>0.0</td>\n",
       "      <td>18.71</td>\n",
       "      <td>A</td>\n",
       "      <td>4.0</td>\n",
       "      <td>228 WHARTON ST</td>\n",
       "      <td>253800.0</td>\n",
       "      <td>2.0</td>\n",
       "      <td>3.0</td>\n",
       "      <td>6.0</td>\n",
       "      <td>2.0</td>\n",
       "      <td>E</td>\n",
       "      <td>ST</td>\n",
       "      <td>6</td>\n",
       "      <td>1683.90</td>\n",
       "      <td>1310.0</td>\n",
       "      <td>H</td>\n",
       "      <td>I</td>\n",
       "      <td>1960.0</td>\n",
       "      <td>1</td>\n",
       "      <td>MASONRY</td>\n",
       "      <td>South</td>\n",
       "      <td>2</td>\n",
       "    </tr>\n",
       "    <tr>\n",
       "      <th>...</th>\n",
       "      <td>...</td>\n",
       "      <td>...</td>\n",
       "      <td>...</td>\n",
       "      <td>...</td>\n",
       "      <td>...</td>\n",
       "      <td>...</td>\n",
       "      <td>...</td>\n",
       "      <td>...</td>\n",
       "      <td>...</td>\n",
       "      <td>...</td>\n",
       "      <td>...</td>\n",
       "      <td>...</td>\n",
       "      <td>...</td>\n",
       "      <td>...</td>\n",
       "      <td>...</td>\n",
       "      <td>...</td>\n",
       "      <td>...</td>\n",
       "      <td>...</td>\n",
       "      <td>...</td>\n",
       "      <td>...</td>\n",
       "      <td>...</td>\n",
       "      <td>...</td>\n",
       "      <td>...</td>\n",
       "      <td>...</td>\n",
       "      <td>...</td>\n",
       "      <td>...</td>\n",
       "      <td>...</td>\n",
       "    </tr>\n",
       "    <tr>\n",
       "      <th>44479</th>\n",
       "      <td>D</td>\n",
       "      <td>ROW 3 STY MASONRY</td>\n",
       "      <td>N</td>\n",
       "      <td>100.00</td>\n",
       "      <td>4.0</td>\n",
       "      <td>0.0</td>\n",
       "      <td>21.87</td>\n",
       "      <td>0</td>\n",
       "      <td>4.0</td>\n",
       "      <td>3434 W CLEARFIELD ST</td>\n",
       "      <td>117500.0</td>\n",
       "      <td>0.0</td>\n",
       "      <td>3.0</td>\n",
       "      <td>6.0</td>\n",
       "      <td>3.0</td>\n",
       "      <td>A</td>\n",
       "      <td>ST</td>\n",
       "      <td>6</td>\n",
       "      <td>1651.00</td>\n",
       "      <td>2907.0</td>\n",
       "      <td>H</td>\n",
       "      <td>I</td>\n",
       "      <td>1929.0</td>\n",
       "      <td>1</td>\n",
       "      <td>MASONRY</td>\n",
       "      <td>North</td>\n",
       "      <td>1</td>\n",
       "    </tr>\n",
       "    <tr>\n",
       "      <th>44480</th>\n",
       "      <td>D</td>\n",
       "      <td>ROW 2 STY MASONRY</td>\n",
       "      <td>Y</td>\n",
       "      <td>102.19</td>\n",
       "      <td>3.0</td>\n",
       "      <td>0.0</td>\n",
       "      <td>18.24</td>\n",
       "      <td>0</td>\n",
       "      <td>3.0</td>\n",
       "      <td>1121 CARPENTER ST</td>\n",
       "      <td>70800.0</td>\n",
       "      <td>2.0</td>\n",
       "      <td>3.0</td>\n",
       "      <td>9.0</td>\n",
       "      <td>3.0</td>\n",
       "      <td>A</td>\n",
       "      <td>ST</td>\n",
       "      <td>6</td>\n",
       "      <td>1811.00</td>\n",
       "      <td>2026.0</td>\n",
       "      <td>A</td>\n",
       "      <td>I</td>\n",
       "      <td>2005.0</td>\n",
       "      <td>1</td>\n",
       "      <td>MASONRY</td>\n",
       "      <td>South</td>\n",
       "      <td>1</td>\n",
       "    </tr>\n",
       "    <tr>\n",
       "      <th>44481</th>\n",
       "      <td>D</td>\n",
       "      <td>ROW 3 STY MASONRY</td>\n",
       "      <td>Y</td>\n",
       "      <td>103.26</td>\n",
       "      <td>3.0</td>\n",
       "      <td>0.0</td>\n",
       "      <td>16.00</td>\n",
       "      <td>0</td>\n",
       "      <td>3.0</td>\n",
       "      <td>1208 MONTROSE ST</td>\n",
       "      <td>23600.0</td>\n",
       "      <td>1.0</td>\n",
       "      <td>3.0</td>\n",
       "      <td>6.0</td>\n",
       "      <td>3.0</td>\n",
       "      <td>A</td>\n",
       "      <td>ST</td>\n",
       "      <td>6</td>\n",
       "      <td>1604.00</td>\n",
       "      <td>2082.0</td>\n",
       "      <td>A</td>\n",
       "      <td>I</td>\n",
       "      <td>2005.0</td>\n",
       "      <td>1</td>\n",
       "      <td>MASONRY</td>\n",
       "      <td>South</td>\n",
       "      <td>1</td>\n",
       "    </tr>\n",
       "    <tr>\n",
       "      <th>44482</th>\n",
       "      <td>D</td>\n",
       "      <td>ROW 3 STY MASONRY</td>\n",
       "      <td>Y</td>\n",
       "      <td>90.00</td>\n",
       "      <td>3.0</td>\n",
       "      <td>0.0</td>\n",
       "      <td>16.00</td>\n",
       "      <td>0</td>\n",
       "      <td>3.0</td>\n",
       "      <td>1212 MONTROSE ST</td>\n",
       "      <td>23600.0</td>\n",
       "      <td>1.0</td>\n",
       "      <td>3.0</td>\n",
       "      <td>6.0</td>\n",
       "      <td>3.0</td>\n",
       "      <td>E</td>\n",
       "      <td>ST</td>\n",
       "      <td>6</td>\n",
       "      <td>1440.00</td>\n",
       "      <td>1387.0</td>\n",
       "      <td>A</td>\n",
       "      <td>I</td>\n",
       "      <td>2005.0</td>\n",
       "      <td>1</td>\n",
       "      <td>MASONRY</td>\n",
       "      <td>South</td>\n",
       "      <td>1</td>\n",
       "    </tr>\n",
       "    <tr>\n",
       "      <th>44483</th>\n",
       "      <td>A</td>\n",
       "      <td>RES CONDO 2 STY MAS+OTH</td>\n",
       "      <td>Y</td>\n",
       "      <td>215.42</td>\n",
       "      <td>3.0</td>\n",
       "      <td>0.0</td>\n",
       "      <td>39.26</td>\n",
       "      <td>B</td>\n",
       "      <td>3.0</td>\n",
       "      <td>8327 GERMANTOWN AVE</td>\n",
       "      <td>600000.0</td>\n",
       "      <td>3.0</td>\n",
       "      <td>4.0</td>\n",
       "      <td>8.0</td>\n",
       "      <td>2.0</td>\n",
       "      <td>A</td>\n",
       "      <td>AVE</td>\n",
       "      <td>6</td>\n",
       "      <td>8457.99</td>\n",
       "      <td>2851.0</td>\n",
       "      <td>A</td>\n",
       "      <td>I</td>\n",
       "      <td>2006.0</td>\n",
       "      <td>3</td>\n",
       "      <td>MASONRY+OTHER</td>\n",
       "      <td>North West</td>\n",
       "      <td>4</td>\n",
       "    </tr>\n",
       "  </tbody>\n",
       "</table>\n",
       "<p>44484 rows × 27 columns</p>\n",
       "</div>"
      ],
      "text/plain": [
       "      basements building_code_description central_air   depth  \\\n",
       "0             0   ROW B/GAR 2 STY MASONRY           Y   90.00   \n",
       "1             0   ROW B/GAR 2 STY MASONRY           Y   90.00   \n",
       "2             0   ROW B/GAR 2 STY MASONRY           Y   90.00   \n",
       "3             0   ROW B/GAR 2 STY MASONRY           Y   90.00   \n",
       "4             0   ROW B/GAR 2 STY MASONRY           Y   90.00   \n",
       "...         ...                       ...         ...     ...   \n",
       "44479         D         ROW 3 STY MASONRY           N  100.00   \n",
       "44480         D         ROW 2 STY MASONRY           Y  102.19   \n",
       "44481         D         ROW 3 STY MASONRY           Y  103.26   \n",
       "44482         D         ROW 3 STY MASONRY           Y   90.00   \n",
       "44483         A   RES CONDO 2 STY MAS+OTH           Y  215.42   \n",
       "\n",
       "       exterior_condition  fireplaces  frontage garage_type  \\\n",
       "0                     4.0         0.0     29.17           A   \n",
       "1                     4.0         0.0     18.03           A   \n",
       "2                     4.0         0.0     18.05           A   \n",
       "3                     4.0         0.0     18.08           A   \n",
       "4                     4.0         0.0     18.71           A   \n",
       "...                   ...         ...       ...         ...   \n",
       "44479                 4.0         0.0     21.87           0   \n",
       "44480                 3.0         0.0     18.24           0   \n",
       "44481                 3.0         0.0     16.00           0   \n",
       "44482                 3.0         0.0     16.00           0   \n",
       "44483                 3.0         0.0     39.26           B   \n",
       "\n",
       "       interior_condition              location  market_value  \\\n",
       "0                     4.0        220 WHARTON ST      257500.0   \n",
       "1                     4.0        222 WHARTON ST      249400.0   \n",
       "2                     4.0        224 WHARTON ST      249500.0   \n",
       "3                     4.0        226 WHARTON ST      249500.0   \n",
       "4                     4.0        228 WHARTON ST      253800.0   \n",
       "...                   ...                   ...           ...   \n",
       "44479                 4.0  3434 W CLEARFIELD ST      117500.0   \n",
       "44480                 3.0     1121 CARPENTER ST       70800.0   \n",
       "44481                 3.0      1208 MONTROSE ST       23600.0   \n",
       "44482                 3.0      1212 MONTROSE ST       23600.0   \n",
       "44483                 3.0   8327 GERMANTOWN AVE      600000.0   \n",
       "\n",
       "       number_of_bathrooms  number_of_bedrooms  number_of_rooms  \\\n",
       "0                      2.0                 3.0              6.0   \n",
       "1                      2.0                 3.0              6.0   \n",
       "2                      2.0                 3.0              6.0   \n",
       "3                      2.0                 3.0              6.0   \n",
       "4                      2.0                 3.0              6.0   \n",
       "...                    ...                 ...              ...   \n",
       "44479                  0.0                 3.0              6.0   \n",
       "44480                  2.0                 3.0              9.0   \n",
       "44481                  1.0                 3.0              6.0   \n",
       "44482                  1.0                 3.0              6.0   \n",
       "44483                  3.0                 4.0              8.0   \n",
       "\n",
       "       number_stories parcel_shape street_designation  topography  total_area  \\\n",
       "0                 2.0            E                ST            6     2625.30   \n",
       "1                 2.0            E                ST            6     1622.70   \n",
       "2                 2.0            E                ST            6     1624.50   \n",
       "3                 2.0            E                ST            6     1627.20   \n",
       "4                 2.0            E                ST            6     1683.90   \n",
       "...               ...          ...                ...         ...         ...   \n",
       "44479             3.0            A                ST            6     1651.00   \n",
       "44480             3.0            A                ST            6     1811.00   \n",
       "44481             3.0            A                ST            6     1604.00   \n",
       "44482             3.0            E                ST            6     1440.00   \n",
       "44483             2.0            A                AVE           6     8457.99   \n",
       "\n",
       "       total_livable_area type_heater view_type  year_built  zoning  \\\n",
       "0                  1266.0           H         I      1960.0       1   \n",
       "1                  1266.0           A         I      1960.0       1   \n",
       "2                  1266.0           A         I      1960.0       1   \n",
       "3                  1266.0           H         I      1960.0       1   \n",
       "4                  1310.0           H         I      1960.0       1   \n",
       "...                   ...         ...       ...         ...     ...   \n",
       "44479              2907.0           H         I      1929.0       1   \n",
       "44480              2026.0           A         I      2005.0       1   \n",
       "44481              2082.0           A         I      2005.0       1   \n",
       "44482              1387.0           A         I      2005.0       1   \n",
       "44483              2851.0           A         I      2006.0       3   \n",
       "\n",
       "      building_description     section  segment  \n",
       "0                  MASONRY       South        2  \n",
       "1                  MASONRY       South        2  \n",
       "2                  MASONRY       South        2  \n",
       "3                  MASONRY       South        2  \n",
       "4                  MASONRY       South        2  \n",
       "...                    ...         ...      ...  \n",
       "44479              MASONRY       North        1  \n",
       "44480              MASONRY       South        1  \n",
       "44481              MASONRY       South        1  \n",
       "44482              MASONRY       South        1  \n",
       "44483        MASONRY+OTHER  North West        4  \n",
       "\n",
       "[44484 rows x 27 columns]"
      ]
     },
     "execution_count": 4,
     "metadata": {},
     "output_type": "execute_result"
    }
   ],
   "source": [
    "df = pd.read_csv('PHL_Building_Dataset_ML_Classification.csv')\n",
    "df = df.drop(columns=['Unnamed: 0', 'basements_bin'])\n",
    "df"
   ]
  },
  {
   "cell_type": "code",
   "execution_count": 5,
   "metadata": {},
   "outputs": [],
   "source": [
    "# Rename Segment\n",
    "df['segment'] = df['segment'].replace({1:'Bottom', 2:'Lower Middle', 3:'Middle', 4:'Upper Middle', 5:'Top'})"
   ]
  },
  {
   "cell_type": "markdown",
   "metadata": {},
   "source": [
    "# Splitting Data"
   ]
  },
  {
   "cell_type": "code",
   "execution_count": 6,
   "metadata": {},
   "outputs": [],
   "source": [
    "X = df.drop(columns=['building_code_description', 'segment'])\n",
    "y = df['segment']"
   ]
  },
  {
   "cell_type": "code",
   "execution_count": 7,
   "metadata": {},
   "outputs": [],
   "source": [
    "X_train, X_test, y_train, y_test = train_test_split(X, y, stratify = y, test_size = 0.2, random_state = 42)"
   ]
  },
  {
   "cell_type": "markdown",
   "metadata": {},
   "source": [
    "# Evaluation Matrix"
   ]
  },
  {
   "cell_type": "code",
   "execution_count": 8,
   "metadata": {},
   "outputs": [],
   "source": [
    "# Evaluation Matrix Classification\n",
    "def Eva_Matrix1(Model, X_train, y_train, X_test, y_test, Name):\n",
    "    y_pred_train = Model.predict(X_train)\n",
    "    acc_train = accuracy_score(y_train, y_pred_train)\n",
    "    rec_train = recall_score(y_train, y_pred_train)\n",
    "    prec_train = precision_score(y_train, y_pred_train)\n",
    "    f1_train = f1_score(y_train, y_pred_train)\n",
    "    y_pred_test = Model.predict(X_test)\n",
    "    acc_test = accuracy_score(y_test, y_pred_test)\n",
    "    rec_test = recall_score(y_test, y_pred_test)\n",
    "    prec_test = precision_score(y_test, y_pred_test)\n",
    "    f1_test = f1_score(y_train, y_pred_train)\n",
    "    data = {\n",
    "        f\"Training {Name}\" : [acc_train, rec_train, prec_train, f1_train],\n",
    "        f\"Test {Name}\" : [acc_test, rec_test, prec_test, f1_test]\n",
    "    }\n",
    "    df = pd.DataFrame(data=data, index=['Accuracy', 'Recall', 'Precision', 'F1'])\n",
    "    return df"
   ]
  },
  {
   "cell_type": "markdown",
   "metadata": {},
   "source": [
    "# Pipeline"
   ]
  },
  {
   "cell_type": "code",
   "execution_count": 9,
   "metadata": {},
   "outputs": [],
   "source": [
    "# Based on EDA there are several columns that we choose for Machine Learning Modelling\n",
    "num_columns = ['fireplaces', 'market_value', 'number_of_rooms', 'total_area', \n",
    "               'total_livable_area']\n",
    "\n",
    "cat_columns = ['basements', 'central_air', 'exterior_condition', 'garage_type',\n",
    "               'interior_condition', 'parcel_shape', 'topography',\n",
    "               'type_heater', 'view_type', 'building_description']\n",
    "\n",
    "numeric_pipeline = Pipeline([\n",
    "    ('imputer', SimpleImputer(strategy='mean')),\n",
    "    #('scaler', RobustScaler()),\n",
    "    #('poly', PolynomialFeatures(degree=3, include_bias=False)),\n",
    "    #('power', PowerTransformer(method='yeo-johnson'))\n",
    "])\n",
    "\n",
    "categoric_pipeline = Pipeline([\n",
    "    ('imputer', SimpleImputer(strategy='most_frequent')),\n",
    "    ('encoder', OneHotEncoder(handle_unknown=\"ignore\"))\n",
    "])\n",
    "\n",
    "preprocessor = ColumnTransformer([\n",
    "    ('numeric', numeric_pipeline, num_columns),\n",
    "    ('categoric', categoric_pipeline, cat_columns)\n",
    "])\n",
    "\n",
    "pipeSVM = Pipeline([\n",
    "    (\"prep\", preprocessor),\n",
    "    (\"algo\", SVC(max_iter=400, probability=True))\n",
    "])\n",
    "\n",
    "pipeLR = Pipeline([\n",
    "    (\"prep\", preprocessor),\n",
    "    (\"algo\", LogisticRegression())\n",
    "])\n",
    "\n",
    "pipeKNN = Pipeline([\n",
    "    (\"prep\", preprocessor),\n",
    "    (\"algo\", KNeighborsClassifier())\n",
    "])\n",
    "               \n",
    "pipeDT = Pipeline([\n",
    "    (\"prep\", preprocessor),\n",
    "    (\"algo\", DecisionTreeClassifier())\n",
    "])\n",
    "            \n",
    "pipeRF = Pipeline([\n",
    "    (\"prep\", preprocessor),\n",
    "    (\"algo\", RandomForestClassifier())\n",
    "])"
   ]
  },
  {
   "cell_type": "markdown",
   "metadata": {},
   "source": [
    "# Base Model (KNN)"
   ]
  },
  {
   "cell_type": "code",
   "execution_count": 10,
   "metadata": {},
   "outputs": [
    {
     "data": {
      "text/plain": [
       "Pipeline(steps=[('prep',\n",
       "                 ColumnTransformer(transformers=[('numeric',\n",
       "                                                  Pipeline(steps=[('imputer',\n",
       "                                                                   SimpleImputer())]),\n",
       "                                                  ['fireplaces', 'market_value',\n",
       "                                                   'number_of_rooms',\n",
       "                                                   'total_area',\n",
       "                                                   'total_livable_area']),\n",
       "                                                 ('categoric',\n",
       "                                                  Pipeline(steps=[('imputer',\n",
       "                                                                   SimpleImputer(strategy='most_frequent')),\n",
       "                                                                  ('encoder',\n",
       "                                                                   OneHotEncoder(handle_unknown='ignore'))]),\n",
       "                                                  ['basements', 'central_air',\n",
       "                                                   'exterior_condition',\n",
       "                                                   'garage_type',\n",
       "                                                   'interior_condition',\n",
       "                                                   'parcel_shape', 'topography',\n",
       "                                                   'type_heater', 'view_type',\n",
       "                                                   'building_description'])])),\n",
       "                ('algo', KNeighborsClassifier())])"
      ]
     },
     "execution_count": 10,
     "metadata": {},
     "output_type": "execute_result"
    }
   ],
   "source": [
    "pipeKNN.fit(X_train, y_train)"
   ]
  },
  {
   "cell_type": "code",
   "execution_count": 11,
   "metadata": {},
   "outputs": [],
   "source": [
    "y_KNN_train = pipeKNN.predict(X_train)"
   ]
  },
  {
   "cell_type": "code",
   "execution_count": 12,
   "metadata": {},
   "outputs": [],
   "source": [
    "y_KNN_test = pipeKNN.predict(X_test)"
   ]
  },
  {
   "cell_type": "code",
   "execution_count": 13,
   "metadata": {},
   "outputs": [
    {
     "data": {
      "text/plain": [
       "0.9995784977660381"
      ]
     },
     "execution_count": 13,
     "metadata": {},
     "output_type": "execute_result"
    }
   ],
   "source": [
    "accuracy_train_KNN_base = accuracy_score(y_train, y_KNN_train)\n",
    "accuracy_train_KNN_base"
   ]
  },
  {
   "cell_type": "code",
   "execution_count": 14,
   "metadata": {},
   "outputs": [
    {
     "data": {
      "text/plain": [
       "0.9993256153759694"
      ]
     },
     "execution_count": 14,
     "metadata": {},
     "output_type": "execute_result"
    }
   ],
   "source": [
    "accuracy_test_KNN_base = accuracy_score(y_test, y_KNN_test)\n",
    "accuracy_test_KNN_base"
   ]
  },
  {
   "cell_type": "code",
   "execution_count": 15,
   "metadata": {},
   "outputs": [
    {
     "data": {
      "text/plain": [
       "0.9995783772072708"
      ]
     },
     "execution_count": 15,
     "metadata": {},
     "output_type": "execute_result"
    }
   ],
   "source": [
    "f1score_train_KNN_base = f1_score(y_train, y_KNN_train, average='weighted')\n",
    "f1score_train_KNN_base"
   ]
  },
  {
   "cell_type": "code",
   "execution_count": 16,
   "metadata": {},
   "outputs": [
    {
     "data": {
      "text/plain": [
       "0.999324419559254"
      ]
     },
     "execution_count": 16,
     "metadata": {},
     "output_type": "execute_result"
    }
   ],
   "source": [
    "f1score_test_KNN_base = f1_score(y_test, y_KNN_test, average='weighted')\n",
    "f1score_test_KNN_base"
   ]
  },
  {
   "cell_type": "code",
   "execution_count": 17,
   "metadata": {},
   "outputs": [
    {
     "name": "stdout",
     "output_type": "stream",
     "text": [
      "              precision    recall  f1-score   support\n",
      "\n",
      "      Bottom       1.00      1.00      1.00      4788\n",
      "Lower Middle       1.00      1.00      1.00      3089\n",
      "      Middle       1.00      1.00      1.00       826\n",
      "         Top       1.00      1.00      1.00        42\n",
      "Upper Middle       1.00      0.98      0.99       152\n",
      "\n",
      "    accuracy                           1.00      8897\n",
      "   macro avg       1.00      1.00      1.00      8897\n",
      "weighted avg       1.00      1.00      1.00      8897\n",
      "\n"
     ]
    }
   ],
   "source": [
    "print(classification_report(y_test, y_KNN_test))"
   ]
  },
  {
   "cell_type": "markdown",
   "metadata": {},
   "source": [
    "# Base Model Logistic Regression"
   ]
  },
  {
   "cell_type": "code",
   "execution_count": 18,
   "metadata": {},
   "outputs": [
    {
     "data": {
      "text/plain": [
       "Pipeline(steps=[('prep',\n",
       "                 ColumnTransformer(transformers=[('numeric',\n",
       "                                                  Pipeline(steps=[('imputer',\n",
       "                                                                   SimpleImputer())]),\n",
       "                                                  ['fireplaces', 'market_value',\n",
       "                                                   'number_of_rooms',\n",
       "                                                   'total_area',\n",
       "                                                   'total_livable_area']),\n",
       "                                                 ('categoric',\n",
       "                                                  Pipeline(steps=[('imputer',\n",
       "                                                                   SimpleImputer(strategy='most_frequent')),\n",
       "                                                                  ('encoder',\n",
       "                                                                   OneHotEncoder(handle_unknown='ignore'))]),\n",
       "                                                  ['basements', 'central_air',\n",
       "                                                   'exterior_condition',\n",
       "                                                   'garage_type',\n",
       "                                                   'interior_condition',\n",
       "                                                   'parcel_shape', 'topography',\n",
       "                                                   'type_heater', 'view_type',\n",
       "                                                   'building_description'])])),\n",
       "                ('algo', LogisticRegression())])"
      ]
     },
     "execution_count": 18,
     "metadata": {},
     "output_type": "execute_result"
    }
   ],
   "source": [
    "pipeLR.fit(X_train, y_train)"
   ]
  },
  {
   "cell_type": "code",
   "execution_count": 19,
   "metadata": {},
   "outputs": [],
   "source": [
    "y_LR_train = pipeLR.predict(X_train)"
   ]
  },
  {
   "cell_type": "code",
   "execution_count": 20,
   "metadata": {},
   "outputs": [],
   "source": [
    "y_LR_test = pipeLR.predict(X_test)"
   ]
  },
  {
   "cell_type": "code",
   "execution_count": 21,
   "metadata": {},
   "outputs": [
    {
     "data": {
      "text/plain": [
       "0.7611487340882906"
      ]
     },
     "execution_count": 21,
     "metadata": {},
     "output_type": "execute_result"
    }
   ],
   "source": [
    "accuracy_train_LR_base = accuracy_score(y_train, y_LR_train)\n",
    "accuracy_train_LR_base"
   ]
  },
  {
   "cell_type": "code",
   "execution_count": 22,
   "metadata": {},
   "outputs": [
    {
     "data": {
      "text/plain": [
       "0.7591322917837473"
      ]
     },
     "execution_count": 22,
     "metadata": {},
     "output_type": "execute_result"
    }
   ],
   "source": [
    "accuracy_test_LR_base = accuracy_score(y_test, y_LR_test)\n",
    "accuracy_test_LR_base"
   ]
  },
  {
   "cell_type": "code",
   "execution_count": 23,
   "metadata": {},
   "outputs": [
    {
     "data": {
      "text/plain": [
       "0.7330742237283698"
      ]
     },
     "execution_count": 23,
     "metadata": {},
     "output_type": "execute_result"
    }
   ],
   "source": [
    "f1score_train_LR_base = f1_score(y_train, y_LR_train, average='weighted')\n",
    "f1score_train_LR_base"
   ]
  },
  {
   "cell_type": "code",
   "execution_count": 24,
   "metadata": {},
   "outputs": [
    {
     "data": {
      "text/plain": [
       "0.7306879498495213"
      ]
     },
     "execution_count": 24,
     "metadata": {},
     "output_type": "execute_result"
    }
   ],
   "source": [
    "f1score_test_LR_base = f1_score(y_test, y_LR_test, average='weighted')\n",
    "f1score_test_LR_base"
   ]
  },
  {
   "cell_type": "code",
   "execution_count": 25,
   "metadata": {},
   "outputs": [
    {
     "name": "stdout",
     "output_type": "stream",
     "text": [
      "              precision    recall  f1-score   support\n",
      "\n",
      "      Bottom       0.86      0.90      0.88      4788\n",
      "Lower Middle       0.65      0.77      0.71      3089\n",
      "      Middle       0.36      0.08      0.13       826\n",
      "         Top       0.09      0.07      0.08        42\n",
      "Upper Middle       0.32      0.05      0.08       152\n",
      "\n",
      "    accuracy                           0.76      8897\n",
      "   macro avg       0.46      0.37      0.37      8897\n",
      "weighted avg       0.73      0.76      0.73      8897\n",
      "\n"
     ]
    }
   ],
   "source": [
    "print(classification_report(y_test, y_LR_test))"
   ]
  },
  {
   "cell_type": "markdown",
   "metadata": {},
   "source": [
    "# Base Model SVM"
   ]
  },
  {
   "cell_type": "code",
   "execution_count": 26,
   "metadata": {},
   "outputs": [
    {
     "data": {
      "text/plain": [
       "Pipeline(steps=[('prep',\n",
       "                 ColumnTransformer(transformers=[('numeric',\n",
       "                                                  Pipeline(steps=[('imputer',\n",
       "                                                                   SimpleImputer())]),\n",
       "                                                  ['fireplaces', 'market_value',\n",
       "                                                   'number_of_rooms',\n",
       "                                                   'total_area',\n",
       "                                                   'total_livable_area']),\n",
       "                                                 ('categoric',\n",
       "                                                  Pipeline(steps=[('imputer',\n",
       "                                                                   SimpleImputer(strategy='most_frequent')),\n",
       "                                                                  ('encoder',\n",
       "                                                                   OneHotEncoder(handle_unknown='ignore'))]),\n",
       "                                                  ['basements', 'central_air',\n",
       "                                                   'exterior_condition',\n",
       "                                                   'garage_type',\n",
       "                                                   'interior_condition',\n",
       "                                                   'parcel_shape', 'topography',\n",
       "                                                   'type_heater', 'view_type',\n",
       "                                                   'building_description'])])),\n",
       "                ('algo', SVC(max_iter=400, probability=True))])"
      ]
     },
     "execution_count": 26,
     "metadata": {},
     "output_type": "execute_result"
    }
   ],
   "source": [
    "pipeSVM.fit(X_train, y_train)"
   ]
  },
  {
   "cell_type": "code",
   "execution_count": 27,
   "metadata": {},
   "outputs": [],
   "source": [
    "y_SVM_train = pipeSVM.predict(X_train)"
   ]
  },
  {
   "cell_type": "code",
   "execution_count": 28,
   "metadata": {},
   "outputs": [],
   "source": [
    "y_SVM_test = pipeSVM.predict(X_test)"
   ]
  },
  {
   "cell_type": "code",
   "execution_count": 29,
   "metadata": {},
   "outputs": [
    {
     "data": {
      "text/plain": [
       "0.9610812937308568"
      ]
     },
     "execution_count": 29,
     "metadata": {},
     "output_type": "execute_result"
    }
   ],
   "source": [
    "accuracy_train_SVM_base = accuracy_score(y_train, y_SVM_train)\n",
    "accuracy_train_SVM_base"
   ]
  },
  {
   "cell_type": "code",
   "execution_count": 30,
   "metadata": {},
   "outputs": [
    {
     "data": {
      "text/plain": [
       "0.9598741148701809"
      ]
     },
     "execution_count": 30,
     "metadata": {},
     "output_type": "execute_result"
    }
   ],
   "source": [
    "accuracy_test_SVM_base = accuracy_score(y_test, y_SVM_test)\n",
    "accuracy_test_SVM_base"
   ]
  },
  {
   "cell_type": "code",
   "execution_count": 31,
   "metadata": {},
   "outputs": [
    {
     "data": {
      "text/plain": [
       "0.9613909769487187"
      ]
     },
     "execution_count": 31,
     "metadata": {},
     "output_type": "execute_result"
    }
   ],
   "source": [
    "f1score_train_SVM_base = f1_score(y_train, y_SVM_train, average='weighted')\n",
    "f1score_train_SVM_base"
   ]
  },
  {
   "cell_type": "code",
   "execution_count": 32,
   "metadata": {},
   "outputs": [
    {
     "data": {
      "text/plain": [
       "0.9601902867356089"
      ]
     },
     "execution_count": 32,
     "metadata": {},
     "output_type": "execute_result"
    }
   ],
   "source": [
    "f1score_test_SVM_base = f1_score(y_test, y_SVM_test, average='weighted')\n",
    "f1score_test_SVM_base"
   ]
  },
  {
   "cell_type": "code",
   "execution_count": 33,
   "metadata": {},
   "outputs": [
    {
     "name": "stdout",
     "output_type": "stream",
     "text": [
      "              precision    recall  f1-score   support\n",
      "\n",
      "      Bottom       1.00      0.93      0.96      4788\n",
      "Lower Middle       0.90      1.00      0.95      3089\n",
      "      Middle       0.99      1.00      1.00       826\n",
      "         Top       1.00      1.00      1.00        42\n",
      "Upper Middle       1.00      0.97      0.98       152\n",
      "\n",
      "    accuracy                           0.96      8897\n",
      "   macro avg       0.98      0.98      0.98      8897\n",
      "weighted avg       0.96      0.96      0.96      8897\n",
      "\n"
     ]
    }
   ],
   "source": [
    "print(classification_report(y_test, y_SVM_test))"
   ]
  },
  {
   "cell_type": "markdown",
   "metadata": {},
   "source": [
    "# Base Model (DecisionTreeClassifier)"
   ]
  },
  {
   "cell_type": "code",
   "execution_count": 34,
   "metadata": {},
   "outputs": [
    {
     "data": {
      "text/plain": [
       "Pipeline(steps=[('prep',\n",
       "                 ColumnTransformer(transformers=[('numeric',\n",
       "                                                  Pipeline(steps=[('imputer',\n",
       "                                                                   SimpleImputer())]),\n",
       "                                                  ['fireplaces', 'market_value',\n",
       "                                                   'number_of_rooms',\n",
       "                                                   'total_area',\n",
       "                                                   'total_livable_area']),\n",
       "                                                 ('categoric',\n",
       "                                                  Pipeline(steps=[('imputer',\n",
       "                                                                   SimpleImputer(strategy='most_frequent')),\n",
       "                                                                  ('encoder',\n",
       "                                                                   OneHotEncoder(handle_unknown='ignore'))]),\n",
       "                                                  ['basements', 'central_air',\n",
       "                                                   'exterior_condition',\n",
       "                                                   'garage_type',\n",
       "                                                   'interior_condition',\n",
       "                                                   'parcel_shape', 'topography',\n",
       "                                                   'type_heater', 'view_type',\n",
       "                                                   'building_description'])])),\n",
       "                ('algo', DecisionTreeClassifier())])"
      ]
     },
     "execution_count": 34,
     "metadata": {},
     "output_type": "execute_result"
    }
   ],
   "source": [
    "pipeDT.fit(X_train, y_train)"
   ]
  },
  {
   "cell_type": "code",
   "execution_count": 35,
   "metadata": {},
   "outputs": [],
   "source": [
    "y_DT_train = pipeDT.predict(X_train)"
   ]
  },
  {
   "cell_type": "code",
   "execution_count": 36,
   "metadata": {},
   "outputs": [],
   "source": [
    "y_DT_test = pipeDT.predict(X_test)"
   ]
  },
  {
   "cell_type": "code",
   "execution_count": 37,
   "metadata": {},
   "outputs": [
    {
     "data": {
      "text/plain": [
       "1.0"
      ]
     },
     "execution_count": 37,
     "metadata": {},
     "output_type": "execute_result"
    }
   ],
   "source": [
    "accuracy_train_DT_base = accuracy_score(y_train, y_DT_train)\n",
    "accuracy_train_DT_base"
   ]
  },
  {
   "cell_type": "code",
   "execution_count": 38,
   "metadata": {},
   "outputs": [
    {
     "data": {
      "text/plain": [
       "0.9998876025626616"
      ]
     },
     "execution_count": 38,
     "metadata": {},
     "output_type": "execute_result"
    }
   ],
   "source": [
    "accuracy_test_DT_base = accuracy_score(y_test, y_DT_test)\n",
    "accuracy_test_DT_base"
   ]
  },
  {
   "cell_type": "code",
   "execution_count": 39,
   "metadata": {},
   "outputs": [
    {
     "data": {
      "text/plain": [
       "1.0"
      ]
     },
     "execution_count": 39,
     "metadata": {},
     "output_type": "execute_result"
    }
   ],
   "source": [
    "f1score_train_DT_base = f1_score(y_train, y_DT_train, average='weighted')\n",
    "f1score_train_DT_base"
   ]
  },
  {
   "cell_type": "code",
   "execution_count": 40,
   "metadata": {},
   "outputs": [
    {
     "data": {
      "text/plain": [
       "0.9998875776185774"
      ]
     },
     "execution_count": 40,
     "metadata": {},
     "output_type": "execute_result"
    }
   ],
   "source": [
    "f1score_test_DT_base = f1_score(y_test, y_DT_test, average='weighted')\n",
    "f1score_test_DT_base"
   ]
  },
  {
   "cell_type": "code",
   "execution_count": 41,
   "metadata": {},
   "outputs": [
    {
     "name": "stdout",
     "output_type": "stream",
     "text": [
      "              precision    recall  f1-score   support\n",
      "\n",
      "      Bottom       1.00      1.00      1.00      4788\n",
      "Lower Middle       1.00      1.00      1.00      3089\n",
      "      Middle       1.00      1.00      1.00       826\n",
      "         Top       1.00      1.00      1.00        42\n",
      "Upper Middle       1.00      1.00      1.00       152\n",
      "\n",
      "    accuracy                           1.00      8897\n",
      "   macro avg       1.00      1.00      1.00      8897\n",
      "weighted avg       1.00      1.00      1.00      8897\n",
      "\n"
     ]
    }
   ],
   "source": [
    "print(classification_report(y_test, y_DT_test))"
   ]
  },
  {
   "cell_type": "markdown",
   "metadata": {},
   "source": [
    "# Base Model (Random Forest Classifier)"
   ]
  },
  {
   "cell_type": "code",
   "execution_count": 42,
   "metadata": {},
   "outputs": [
    {
     "data": {
      "text/plain": [
       "Pipeline(steps=[('prep',\n",
       "                 ColumnTransformer(transformers=[('numeric',\n",
       "                                                  Pipeline(steps=[('imputer',\n",
       "                                                                   SimpleImputer())]),\n",
       "                                                  ['fireplaces', 'market_value',\n",
       "                                                   'number_of_rooms',\n",
       "                                                   'total_area',\n",
       "                                                   'total_livable_area']),\n",
       "                                                 ('categoric',\n",
       "                                                  Pipeline(steps=[('imputer',\n",
       "                                                                   SimpleImputer(strategy='most_frequent')),\n",
       "                                                                  ('encoder',\n",
       "                                                                   OneHotEncoder(handle_unknown='ignore'))]),\n",
       "                                                  ['basements', 'central_air',\n",
       "                                                   'exterior_condition',\n",
       "                                                   'garage_type',\n",
       "                                                   'interior_condition',\n",
       "                                                   'parcel_shape', 'topography',\n",
       "                                                   'type_heater', 'view_type',\n",
       "                                                   'building_description'])])),\n",
       "                ('algo', RandomForestClassifier())])"
      ]
     },
     "execution_count": 42,
     "metadata": {},
     "output_type": "execute_result"
    }
   ],
   "source": [
    "pipeRF.fit(X_train, y_train)"
   ]
  },
  {
   "cell_type": "code",
   "execution_count": 43,
   "metadata": {},
   "outputs": [],
   "source": [
    "y_RF_train = pipeRF.predict(X_train)"
   ]
  },
  {
   "cell_type": "code",
   "execution_count": 44,
   "metadata": {},
   "outputs": [],
   "source": [
    "y_RF_test = pipeRF.predict(X_test)"
   ]
  },
  {
   "cell_type": "code",
   "execution_count": 45,
   "metadata": {},
   "outputs": [
    {
     "data": {
      "text/plain": [
       "1.0"
      ]
     },
     "execution_count": 45,
     "metadata": {},
     "output_type": "execute_result"
    }
   ],
   "source": [
    "accuracy_train_RF_base = accuracy_score(y_train, y_RF_train)\n",
    "accuracy_train_RF_base"
   ]
  },
  {
   "cell_type": "code",
   "execution_count": 46,
   "metadata": {},
   "outputs": [
    {
     "data": {
      "text/plain": [
       "0.9966280768798471"
      ]
     },
     "execution_count": 46,
     "metadata": {},
     "output_type": "execute_result"
    }
   ],
   "source": [
    "accuracy_test_RF_base = accuracy_score(y_test, y_RF_test)\n",
    "accuracy_test_RF_base"
   ]
  },
  {
   "cell_type": "code",
   "execution_count": 47,
   "metadata": {},
   "outputs": [
    {
     "data": {
      "text/plain": [
       "1.0"
      ]
     },
     "execution_count": 47,
     "metadata": {},
     "output_type": "execute_result"
    }
   ],
   "source": [
    "f1score_train_RF_base = f1_score(y_train, y_RF_train, average='weighted')\n",
    "f1score_train_RF_base"
   ]
  },
  {
   "cell_type": "code",
   "execution_count": 48,
   "metadata": {},
   "outputs": [
    {
     "data": {
      "text/plain": [
       "0.9965470607603603"
      ]
     },
     "execution_count": 48,
     "metadata": {},
     "output_type": "execute_result"
    }
   ],
   "source": [
    "f1score_test_RF_base = f1_score(y_test, y_RF_test, average='weighted')\n",
    "f1score_test_RF_base"
   ]
  },
  {
   "cell_type": "code",
   "execution_count": 49,
   "metadata": {},
   "outputs": [
    {
     "name": "stdout",
     "output_type": "stream",
     "text": [
      "              precision    recall  f1-score   support\n",
      "\n",
      "      Bottom       1.00      1.00      1.00      4788\n",
      "Lower Middle       1.00      1.00      1.00      3089\n",
      "      Middle       0.98      1.00      0.99       826\n",
      "         Top       1.00      0.83      0.91        42\n",
      "Upper Middle       0.94      0.88      0.91       152\n",
      "\n",
      "    accuracy                           1.00      8897\n",
      "   macro avg       0.98      0.94      0.96      8897\n",
      "weighted avg       1.00      1.00      1.00      8897\n",
      "\n"
     ]
    }
   ],
   "source": [
    "print(classification_report(y_test, y_RF_test))"
   ]
  },
  {
   "cell_type": "markdown",
   "metadata": {},
   "source": [
    "# ================================================="
   ]
  },
  {
   "cell_type": "markdown",
   "metadata": {},
   "source": [
    "# Hyper Parameter Tuning"
   ]
  },
  {
   "cell_type": "markdown",
   "metadata": {},
   "source": [
    "## Logistic Regression"
   ]
  },
  {
   "cell_type": "code",
   "execution_count": 50,
   "metadata": {},
   "outputs": [
    {
     "name": "stdout",
     "output_type": "stream",
     "text": [
      "Fitting 3 folds for each of 42 candidates, totalling 126 fits\n"
     ]
    },
    {
     "name": "stderr",
     "output_type": "stream",
     "text": [
      "[Parallel(n_jobs=-1)]: Using backend LokyBackend with 4 concurrent workers.\n",
      "[Parallel(n_jobs=-1)]: Done  42 tasks      | elapsed:   45.2s\n",
      "[Parallel(n_jobs=-1)]: Done 126 out of 126 | elapsed:  2.0min finished\n"
     ]
    },
    {
     "data": {
      "text/plain": [
       "GridSearchCV(cv=StratifiedKFold(n_splits=3, random_state=42, shuffle=False),\n",
       "             estimator=Pipeline(steps=[('prep',\n",
       "                                        ColumnTransformer(transformers=[('numeric',\n",
       "                                                                         Pipeline(steps=[('imputer',\n",
       "                                                                                          SimpleImputer())]),\n",
       "                                                                         ['fireplaces',\n",
       "                                                                          'market_value',\n",
       "                                                                          'number_of_rooms',\n",
       "                                                                          'total_area',\n",
       "                                                                          'total_livable_area']),\n",
       "                                                                        ('categoric',\n",
       "                                                                         Pipeline(steps=[('imputer',\n",
       "                                                                                          SimpleImputer(strategy='most_f...\n",
       "                                                                          'garage_type',\n",
       "                                                                          'interior_condition',\n",
       "                                                                          'parcel_shape',\n",
       "                                                                          'topography',\n",
       "                                                                          'type_heater',\n",
       "                                                                          'view_type',\n",
       "                                                                          'building_description'])])),\n",
       "                                       ('algo', LogisticRegression())]),\n",
       "             n_jobs=-1,\n",
       "             param_grid={'algo__C': array([1.e-03, 1.e-02, 1.e-01, 1.e+00, 1.e+01, 1.e+02, 1.e+03]),\n",
       "                         'algo__fit_intercept': [True, False],\n",
       "                         'algo__penalty': ['l1', 'l2', 'elasticnet']},\n",
       "             scoring='balanced_accuracy', verbose=1)"
      ]
     },
     "execution_count": 50,
     "metadata": {},
     "output_type": "execute_result"
    }
   ],
   "source": [
    "skf = StratifiedKFold(n_splits=3, random_state=42)\n",
    "\n",
    "param_LR = {\n",
    "    \"algo__C\" : np.logspace(-3, 3, 7),\n",
    "    \"algo__penalty\" : ['l1', 'l2', 'elasticnet'],\n",
    "    \"algo__fit_intercept\" : [True,False]\n",
    "}\n",
    "\n",
    "GS_LR = GridSearchCV(pipeLR, param_LR, cv = skf, n_jobs = -1, verbose = 1, scoring='balanced_accuracy')\n",
    "GS_LR.fit(X_train, y_train)"
   ]
  },
  {
   "cell_type": "code",
   "execution_count": 51,
   "metadata": {},
   "outputs": [
    {
     "data": {
      "text/plain": [
       "{'algo__C': 0.001, 'algo__fit_intercept': True, 'algo__penalty': 'l2'}"
      ]
     },
     "execution_count": 51,
     "metadata": {},
     "output_type": "execute_result"
    }
   ],
   "source": [
    "GS_LR.best_params_"
   ]
  },
  {
   "cell_type": "code",
   "execution_count": 52,
   "metadata": {},
   "outputs": [],
   "source": [
    "LR_Tuned = GS_LR.best_estimator_"
   ]
  },
  {
   "cell_type": "code",
   "execution_count": 53,
   "metadata": {},
   "outputs": [],
   "source": [
    "y_LR_Tuned_train = LR_Tuned.predict(X_train)"
   ]
  },
  {
   "cell_type": "code",
   "execution_count": 54,
   "metadata": {},
   "outputs": [],
   "source": [
    "y_LR_Tuned_test = LR_Tuned.predict(X_test)"
   ]
  },
  {
   "cell_type": "code",
   "execution_count": 55,
   "metadata": {},
   "outputs": [
    {
     "data": {
      "text/plain": [
       "0.7603338297692978"
      ]
     },
     "execution_count": 55,
     "metadata": {},
     "output_type": "execute_result"
    }
   ],
   "source": [
    "accuracy_train_LR_HyperTune = accuracy_score(y_train, y_LR_Tuned_train)\n",
    "accuracy_train_LR_HyperTune"
   ]
  },
  {
   "cell_type": "code",
   "execution_count": 56,
   "metadata": {},
   "outputs": [
    {
     "data": {
      "text/plain": [
       "0.7566595481623019"
      ]
     },
     "execution_count": 56,
     "metadata": {},
     "output_type": "execute_result"
    }
   ],
   "source": [
    "accuracy_test_LR_HyperTune = accuracy_score(y_test, y_LR_Tuned_test)\n",
    "accuracy_test_LR_HyperTune"
   ]
  },
  {
   "cell_type": "code",
   "execution_count": 57,
   "metadata": {},
   "outputs": [
    {
     "data": {
      "text/plain": [
       "0.7309388493596513"
      ]
     },
     "execution_count": 57,
     "metadata": {},
     "output_type": "execute_result"
    }
   ],
   "source": [
    "f1score_train_LR_HyperTune = f1_score(y_train, y_LR_Tuned_train, average='weighted')\n",
    "f1score_train_LR_HyperTune"
   ]
  },
  {
   "cell_type": "code",
   "execution_count": 58,
   "metadata": {},
   "outputs": [
    {
     "data": {
      "text/plain": [
       "0.7270923736458261"
      ]
     },
     "execution_count": 58,
     "metadata": {},
     "output_type": "execute_result"
    }
   ],
   "source": [
    "f1score_test_LR_HyperTune = f1_score(y_test, y_LR_Tuned_test, average='weighted')\n",
    "f1score_test_LR_HyperTune"
   ]
  },
  {
   "cell_type": "code",
   "execution_count": 59,
   "metadata": {},
   "outputs": [
    {
     "name": "stdout",
     "output_type": "stream",
     "text": [
      "              precision    recall  f1-score   support\n",
      "\n",
      "      Bottom       0.85      0.90      0.88      4788\n",
      "Lower Middle       0.65      0.76      0.70      3089\n",
      "      Middle       0.34      0.07      0.11       826\n",
      "         Top       0.00      0.00      0.00        42\n",
      "Upper Middle       0.22      0.04      0.07       152\n",
      "\n",
      "    accuracy                           0.76      8897\n",
      "   macro avg       0.41      0.35      0.35      8897\n",
      "weighted avg       0.72      0.76      0.73      8897\n",
      "\n"
     ]
    }
   ],
   "source": [
    "print(classification_report(y_test, y_LR_Tuned_test))"
   ]
  },
  {
   "cell_type": "markdown",
   "metadata": {},
   "source": [
    "# DecisionTreeClassifier"
   ]
  },
  {
   "cell_type": "code",
   "execution_count": 60,
   "metadata": {},
   "outputs": [
    {
     "name": "stdout",
     "output_type": "stream",
     "text": [
      "Fitting 3 folds for each of 64 candidates, totalling 192 fits\n"
     ]
    },
    {
     "name": "stderr",
     "output_type": "stream",
     "text": [
      "[Parallel(n_jobs=-1)]: Using backend LokyBackend with 4 concurrent workers.\n",
      "[Parallel(n_jobs=-1)]: Done  42 tasks      | elapsed:   22.1s\n",
      "[Parallel(n_jobs=-1)]: Done 192 out of 192 | elapsed:  1.7min finished\n"
     ]
    },
    {
     "data": {
      "text/plain": [
       "GridSearchCV(cv=StratifiedKFold(n_splits=3, random_state=42, shuffle=False),\n",
       "             estimator=Pipeline(steps=[('prep',\n",
       "                                        ColumnTransformer(transformers=[('numeric',\n",
       "                                                                         Pipeline(steps=[('imputer',\n",
       "                                                                                          SimpleImputer())]),\n",
       "                                                                         ['fireplaces',\n",
       "                                                                          'market_value',\n",
       "                                                                          'number_of_rooms',\n",
       "                                                                          'total_area',\n",
       "                                                                          'total_livable_area']),\n",
       "                                                                        ('categoric',\n",
       "                                                                         Pipeline(steps=[('imputer',\n",
       "                                                                                          SimpleImputer(strategy='most_f...\n",
       "                                                                          'exterior_condition',\n",
       "                                                                          'garage_type',\n",
       "                                                                          'interior_condition',\n",
       "                                                                          'parcel_shape',\n",
       "                                                                          'topography',\n",
       "                                                                          'type_heater',\n",
       "                                                                          'view_type',\n",
       "                                                                          'building_description'])])),\n",
       "                                       ('algo', DecisionTreeClassifier())]),\n",
       "             n_jobs=-1,\n",
       "             param_grid={'algo__max_depth': [None, 5, 10, 15],\n",
       "                         'algo__max_features': [0.3, 0.5, 0.7, 0.8],\n",
       "                         'algo__min_samples_leaf': array([ 1,  6, 11, 16])},\n",
       "             scoring='balanced_accuracy', verbose=1)"
      ]
     },
     "execution_count": 60,
     "metadata": {},
     "output_type": "execute_result"
    }
   ],
   "source": [
    "skf = StratifiedKFold(n_splits=3, random_state=42)\n",
    "\n",
    "param_DT = {\n",
    "   'algo__max_depth': [None, 5, 10, 15], \n",
    "   'algo__min_samples_leaf' : np.arange(1, 17, 5), \n",
    "   'algo__max_features' : [0.3, 0.5, 0.7, 0.8]\n",
    "}\n",
    "\n",
    "GS_DT = GridSearchCV(pipeDT, param_DT, cv = skf, n_jobs = -1, verbose = 1, scoring='balanced_accuracy')\n",
    "GS_DT.fit(X_train, y_train)"
   ]
  },
  {
   "cell_type": "code",
   "execution_count": 61,
   "metadata": {},
   "outputs": [
    {
     "data": {
      "text/plain": [
       "{'algo__max_depth': None,\n",
       " 'algo__max_features': 0.8,\n",
       " 'algo__min_samples_leaf': 1}"
      ]
     },
     "execution_count": 61,
     "metadata": {},
     "output_type": "execute_result"
    }
   ],
   "source": [
    "GS_DT.best_params_"
   ]
  },
  {
   "cell_type": "code",
   "execution_count": 62,
   "metadata": {},
   "outputs": [],
   "source": [
    "DT_Tuned = GS_DT.best_estimator_"
   ]
  },
  {
   "cell_type": "code",
   "execution_count": 63,
   "metadata": {},
   "outputs": [],
   "source": [
    "y_DT_Tuned_train = DT_Tuned.predict(X_train)"
   ]
  },
  {
   "cell_type": "code",
   "execution_count": 64,
   "metadata": {},
   "outputs": [],
   "source": [
    "y_DT_Tuned_test = DT_Tuned.predict(X_test)"
   ]
  },
  {
   "cell_type": "code",
   "execution_count": 65,
   "metadata": {},
   "outputs": [
    {
     "data": {
      "text/plain": [
       "1.0"
      ]
     },
     "execution_count": 65,
     "metadata": {},
     "output_type": "execute_result"
    }
   ],
   "source": [
    "accuracy_train_DT_HyperTune = accuracy_score(y_train, y_DT_Tuned_train)\n",
    "accuracy_train_DT_HyperTune"
   ]
  },
  {
   "cell_type": "code",
   "execution_count": 66,
   "metadata": {},
   "outputs": [
    {
     "data": {
      "text/plain": [
       "0.9998876025626616"
      ]
     },
     "execution_count": 66,
     "metadata": {},
     "output_type": "execute_result"
    }
   ],
   "source": [
    "accuracy_test_DT_HyperTune = accuracy_score(y_test, y_DT_Tuned_test)\n",
    "accuracy_test_DT_HyperTune"
   ]
  },
  {
   "cell_type": "code",
   "execution_count": 67,
   "metadata": {},
   "outputs": [
    {
     "data": {
      "text/plain": [
       "1.0"
      ]
     },
     "execution_count": 67,
     "metadata": {},
     "output_type": "execute_result"
    }
   ],
   "source": [
    "f1score_train_DT_HyperTune = f1_score(y_train, y_DT_Tuned_train, average='weighted')\n",
    "f1score_train_DT_HyperTune"
   ]
  },
  {
   "cell_type": "code",
   "execution_count": 68,
   "metadata": {},
   "outputs": [
    {
     "data": {
      "text/plain": [
       "0.9998875776185774"
      ]
     },
     "execution_count": 68,
     "metadata": {},
     "output_type": "execute_result"
    }
   ],
   "source": [
    "f1score_test_DT_HyperTune = f1_score(y_test, y_DT_Tuned_test, average='weighted')\n",
    "f1score_test_DT_HyperTune"
   ]
  },
  {
   "cell_type": "code",
   "execution_count": 69,
   "metadata": {},
   "outputs": [
    {
     "name": "stdout",
     "output_type": "stream",
     "text": [
      "              precision    recall  f1-score   support\n",
      "\n",
      "      Bottom       1.00      1.00      1.00      4788\n",
      "Lower Middle       1.00      1.00      1.00      3089\n",
      "      Middle       1.00      1.00      1.00       826\n",
      "         Top       1.00      1.00      1.00        42\n",
      "Upper Middle       1.00      1.00      1.00       152\n",
      "\n",
      "    accuracy                           1.00      8897\n",
      "   macro avg       1.00      1.00      1.00      8897\n",
      "weighted avg       1.00      1.00      1.00      8897\n",
      "\n"
     ]
    }
   ],
   "source": [
    "print(classification_report(y_test, y_DT_Tuned_test))"
   ]
  },
  {
   "cell_type": "markdown",
   "metadata": {},
   "source": [
    "# RandomForestClassifier"
   ]
  },
  {
   "cell_type": "code",
   "execution_count": 70,
   "metadata": {},
   "outputs": [
    {
     "name": "stdout",
     "output_type": "stream",
     "text": [
      "Fitting 3 folds for each of 36 candidates, totalling 108 fits\n"
     ]
    },
    {
     "name": "stderr",
     "output_type": "stream",
     "text": [
      "[Parallel(n_jobs=-1)]: Using backend LokyBackend with 4 concurrent workers.\n",
      "[Parallel(n_jobs=-1)]: Done  42 tasks      | elapsed:  4.0min\n",
      "[Parallel(n_jobs=-1)]: Done 108 out of 108 | elapsed:  8.3min finished\n"
     ]
    },
    {
     "data": {
      "text/plain": [
       "GridSearchCV(cv=StratifiedKFold(n_splits=3, random_state=42, shuffle=False),\n",
       "             estimator=Pipeline(steps=[('prep',\n",
       "                                        ColumnTransformer(transformers=[('numeric',\n",
       "                                                                         Pipeline(steps=[('imputer',\n",
       "                                                                                          SimpleImputer())]),\n",
       "                                                                         ['fireplaces',\n",
       "                                                                          'market_value',\n",
       "                                                                          'number_of_rooms',\n",
       "                                                                          'total_area',\n",
       "                                                                          'total_livable_area']),\n",
       "                                                                        ('categoric',\n",
       "                                                                         Pipeline(steps=[('imputer',\n",
       "                                                                                          SimpleImputer(strategy='most_f...\n",
       "                                                                          'garage_type',\n",
       "                                                                          'interior_condition',\n",
       "                                                                          'parcel_shape',\n",
       "                                                                          'topography',\n",
       "                                                                          'type_heater',\n",
       "                                                                          'view_type',\n",
       "                                                                          'building_description'])])),\n",
       "                                       ('algo', RandomForestClassifier())]),\n",
       "             n_jobs=-1,\n",
       "             param_grid={'algo__max_depth': [None, 5],\n",
       "                         'algo__max_features': [0.3, 0.5],\n",
       "                         'algo__min_samples_leaf': array([ 1,  6, 11]),\n",
       "                         'algo__n_estimators': array([100, 200, 300])},\n",
       "             scoring='balanced_accuracy', verbose=1)"
      ]
     },
     "execution_count": 70,
     "metadata": {},
     "output_type": "execute_result"
    }
   ],
   "source": [
    "skf = StratifiedKFold(n_splits=3, random_state=42)\n",
    "\n",
    "param_RF = {\n",
    "    \"algo__n_estimators\" : np.arange(100, 301, 100),\n",
    "    \"algo__max_depth\" : [None, 5],\n",
    "    \"algo__min_samples_leaf\" : np.arange(1, 12, 5),\n",
    "    \"algo__max_features\" : [0.3, 0.5]\n",
    "}\n",
    "\n",
    "GS_RF = GridSearchCV(pipeRF, param_RF, cv = skf, n_jobs = -1, verbose = 1, scoring='balanced_accuracy')\n",
    "GS_RF.fit(X_train, y_train)"
   ]
  },
  {
   "cell_type": "code",
   "execution_count": 71,
   "metadata": {},
   "outputs": [
    {
     "data": {
      "text/plain": [
       "{'algo__max_depth': None,\n",
       " 'algo__max_features': 0.5,\n",
       " 'algo__min_samples_leaf': 1,\n",
       " 'algo__n_estimators': 100}"
      ]
     },
     "execution_count": 71,
     "metadata": {},
     "output_type": "execute_result"
    }
   ],
   "source": [
    "GS_RF.best_params_"
   ]
  },
  {
   "cell_type": "code",
   "execution_count": 72,
   "metadata": {},
   "outputs": [],
   "source": [
    "RF_Tuned = GS_RF.best_estimator_"
   ]
  },
  {
   "cell_type": "code",
   "execution_count": 73,
   "metadata": {},
   "outputs": [],
   "source": [
    "y_RF_Tuned_train = RF_Tuned.predict(X_train)"
   ]
  },
  {
   "cell_type": "code",
   "execution_count": 74,
   "metadata": {},
   "outputs": [],
   "source": [
    "y_RF_Tuned_test = RF_Tuned.predict(X_test)"
   ]
  },
  {
   "cell_type": "code",
   "execution_count": 75,
   "metadata": {},
   "outputs": [
    {
     "data": {
      "text/plain": [
       "1.0"
      ]
     },
     "execution_count": 75,
     "metadata": {},
     "output_type": "execute_result"
    }
   ],
   "source": [
    "accuracy_train_RF_HyperTune = accuracy_score(y_train, y_RF_Tuned_train)\n",
    "accuracy_train_RF_HyperTune"
   ]
  },
  {
   "cell_type": "code",
   "execution_count": 76,
   "metadata": {},
   "outputs": [
    {
     "data": {
      "text/plain": [
       "0.9998876025626616"
      ]
     },
     "execution_count": 76,
     "metadata": {},
     "output_type": "execute_result"
    }
   ],
   "source": [
    "accuracy_test_RF_HyperTune = accuracy_score(y_test, y_RF_Tuned_test)\n",
    "accuracy_test_RF_HyperTune"
   ]
  },
  {
   "cell_type": "code",
   "execution_count": 77,
   "metadata": {},
   "outputs": [
    {
     "data": {
      "text/plain": [
       "1.0"
      ]
     },
     "execution_count": 77,
     "metadata": {},
     "output_type": "execute_result"
    }
   ],
   "source": [
    "f1score_train_RF_HyperTune = f1_score(y_train, y_RF_Tuned_train, average='weighted')\n",
    "f1score_train_RF_HyperTune"
   ]
  },
  {
   "cell_type": "code",
   "execution_count": 78,
   "metadata": {},
   "outputs": [
    {
     "data": {
      "text/plain": [
       "0.9998875776185774"
      ]
     },
     "execution_count": 78,
     "metadata": {},
     "output_type": "execute_result"
    }
   ],
   "source": [
    "f1score_test_RF_HyperTune = f1_score(y_test, y_RF_Tuned_test, average='weighted')\n",
    "f1score_test_RF_HyperTune"
   ]
  },
  {
   "cell_type": "code",
   "execution_count": 79,
   "metadata": {},
   "outputs": [
    {
     "name": "stdout",
     "output_type": "stream",
     "text": [
      "              precision    recall  f1-score   support\n",
      "\n",
      "      Bottom       1.00      1.00      1.00      4788\n",
      "Lower Middle       1.00      1.00      1.00      3089\n",
      "      Middle       1.00      1.00      1.00       826\n",
      "         Top       1.00      1.00      1.00        42\n",
      "Upper Middle       1.00      1.00      1.00       152\n",
      "\n",
      "    accuracy                           1.00      8897\n",
      "   macro avg       1.00      1.00      1.00      8897\n",
      "weighted avg       1.00      1.00      1.00      8897\n",
      "\n"
     ]
    }
   ],
   "source": [
    "print(classification_report(y_test, y_RF_Tuned_test))"
   ]
  },
  {
   "cell_type": "markdown",
   "metadata": {},
   "source": [
    "# KNN"
   ]
  },
  {
   "cell_type": "code",
   "execution_count": 80,
   "metadata": {},
   "outputs": [
    {
     "name": "stdout",
     "output_type": "stream",
     "text": [
      "Fitting 3 folds for each of 28 candidates, totalling 84 fits\n"
     ]
    },
    {
     "name": "stderr",
     "output_type": "stream",
     "text": [
      "[Parallel(n_jobs=-1)]: Using backend LokyBackend with 4 concurrent workers.\n",
      "[Parallel(n_jobs=-1)]: Done  42 tasks      | elapsed: 14.1min\n",
      "[Parallel(n_jobs=-1)]: Done  84 out of  84 | elapsed: 24.3min finished\n"
     ]
    },
    {
     "data": {
      "text/plain": [
       "GridSearchCV(cv=StratifiedKFold(n_splits=3, random_state=42, shuffle=False),\n",
       "             estimator=Pipeline(steps=[('prep',\n",
       "                                        ColumnTransformer(transformers=[('numeric',\n",
       "                                                                         Pipeline(steps=[('imputer',\n",
       "                                                                                          SimpleImputer())]),\n",
       "                                                                         ['fireplaces',\n",
       "                                                                          'market_value',\n",
       "                                                                          'number_of_rooms',\n",
       "                                                                          'total_area',\n",
       "                                                                          'total_livable_area']),\n",
       "                                                                        ('categoric',\n",
       "                                                                         Pipeline(steps=[('imputer',\n",
       "                                                                                          SimpleImputer(strategy='most_f...\n",
       "                                                                         ['basements',\n",
       "                                                                          'central_air',\n",
       "                                                                          'exterior_condition',\n",
       "                                                                          'garage_type',\n",
       "                                                                          'interior_condition',\n",
       "                                                                          'parcel_shape',\n",
       "                                                                          'topography',\n",
       "                                                                          'type_heater',\n",
       "                                                                          'view_type',\n",
       "                                                                          'building_description'])])),\n",
       "                                       ('algo', KNeighborsClassifier())]),\n",
       "             n_jobs=-1,\n",
       "             param_grid={'algo__n_neighbors': array([ 1,  3,  5,  7,  9, 11, 13]),\n",
       "                         'algo__p': [1, 2],\n",
       "                         'algo__weights': ['uniform', 'distance']},\n",
       "             scoring='balanced_accuracy', verbose=1)"
      ]
     },
     "execution_count": 80,
     "metadata": {},
     "output_type": "execute_result"
    }
   ],
   "source": [
    "skf = StratifiedKFold(n_splits=3, random_state=42)\n",
    "\n",
    "param_KNN = {\n",
    "    \"algo__n_neighbors\" : np.arange(1, 15, 2),\n",
    "    \"algo__p\" : [1, 2],\n",
    "    \"algo__weights\" : ['uniform', 'distance']\n",
    "}\n",
    "\n",
    "GS_KNN = GridSearchCV(pipeKNN, param_KNN, cv = skf, n_jobs = -1, verbose = 1, scoring='balanced_accuracy')\n",
    "GS_KNN.fit(X_train, y_train)"
   ]
  },
  {
   "cell_type": "code",
   "execution_count": 81,
   "metadata": {},
   "outputs": [
    {
     "data": {
      "text/plain": [
       "{'algo__n_neighbors': 11, 'algo__p': 2, 'algo__weights': 'uniform'}"
      ]
     },
     "execution_count": 81,
     "metadata": {},
     "output_type": "execute_result"
    }
   ],
   "source": [
    "GS_KNN.best_params_"
   ]
  },
  {
   "cell_type": "code",
   "execution_count": 82,
   "metadata": {},
   "outputs": [],
   "source": [
    "KNN_Tuned = GS_KNN.best_estimator_"
   ]
  },
  {
   "cell_type": "code",
   "execution_count": 83,
   "metadata": {},
   "outputs": [],
   "source": [
    "y_KNN_Tuned_train = KNN_Tuned.predict(X_train)"
   ]
  },
  {
   "cell_type": "code",
   "execution_count": 84,
   "metadata": {},
   "outputs": [],
   "source": [
    "y_KNN_Tuned_test = KNN_Tuned.predict(X_test)"
   ]
  },
  {
   "cell_type": "code",
   "execution_count": 85,
   "metadata": {},
   "outputs": [
    {
     "data": {
      "text/plain": [
       "0.9993536965745918"
      ]
     },
     "execution_count": 85,
     "metadata": {},
     "output_type": "execute_result"
    }
   ],
   "source": [
    "accuracy_train_KNN_HyperTune = accuracy_score(y_train, y_KNN_Tuned_train)\n",
    "accuracy_train_KNN_HyperTune"
   ]
  },
  {
   "cell_type": "code",
   "execution_count": 86,
   "metadata": {},
   "outputs": [
    {
     "data": {
      "text/plain": [
       "0.9993256153759694"
      ]
     },
     "execution_count": 86,
     "metadata": {},
     "output_type": "execute_result"
    }
   ],
   "source": [
    "accuracy_test_KNN_HyperTune = accuracy_score(y_test, y_KNN_Tuned_test)\n",
    "accuracy_test_KNN_HyperTune"
   ]
  },
  {
   "cell_type": "code",
   "execution_count": 87,
   "metadata": {},
   "outputs": [
    {
     "data": {
      "text/plain": [
       "0.9993537392025772"
      ]
     },
     "execution_count": 87,
     "metadata": {},
     "output_type": "execute_result"
    }
   ],
   "source": [
    "f1score_train_KNN_HyperTune = f1_score(y_train, y_KNN_Tuned_train, average='weighted')\n",
    "f1score_train_KNN_HyperTune"
   ]
  },
  {
   "cell_type": "code",
   "execution_count": 88,
   "metadata": {},
   "outputs": [
    {
     "data": {
      "text/plain": [
       "0.9993243700304759"
      ]
     },
     "execution_count": 88,
     "metadata": {},
     "output_type": "execute_result"
    }
   ],
   "source": [
    "f1score_test_KNN_HyperTune = f1_score(y_test, y_KNN_Tuned_test, average='weighted')\n",
    "f1score_test_KNN_HyperTune"
   ]
  },
  {
   "cell_type": "code",
   "execution_count": 89,
   "metadata": {},
   "outputs": [
    {
     "name": "stdout",
     "output_type": "stream",
     "text": [
      "              precision    recall  f1-score   support\n",
      "\n",
      "      Bottom       1.00      1.00      1.00      4788\n",
      "Lower Middle       1.00      1.00      1.00      3089\n",
      "      Middle       1.00      1.00      1.00       826\n",
      "         Top       1.00      1.00      1.00        42\n",
      "Upper Middle       1.00      0.98      0.99       152\n",
      "\n",
      "    accuracy                           1.00      8897\n",
      "   macro avg       1.00      1.00      1.00      8897\n",
      "weighted avg       1.00      1.00      1.00      8897\n",
      "\n"
     ]
    }
   ],
   "source": [
    "print(classification_report(y_test, y_KNN_Tuned_test))"
   ]
  },
  {
   "cell_type": "markdown",
   "metadata": {},
   "source": [
    "# ================================================="
   ]
  },
  {
   "cell_type": "markdown",
   "metadata": {},
   "source": [
    "# Fine Tuning"
   ]
  },
  {
   "cell_type": "markdown",
   "metadata": {},
   "source": [
    "## DecisionTreeClassifier"
   ]
  },
  {
   "cell_type": "code",
   "execution_count": 90,
   "metadata": {},
   "outputs": [],
   "source": [
    "pipeDT_Tuning = Pipeline([\n",
    "    (\"prep\", preprocessor),\n",
    "    (\"algo\", DecisionTreeClassifier(max_depth = 4, max_features = 0.5, min_samples_leaf = 4, min_samples_split = 2, random_state=42))\n",
    "])"
   ]
  },
  {
   "cell_type": "code",
   "execution_count": 91,
   "metadata": {},
   "outputs": [
    {
     "data": {
      "text/plain": [
       "Pipeline(steps=[('prep',\n",
       "                 ColumnTransformer(transformers=[('numeric',\n",
       "                                                  Pipeline(steps=[('imputer',\n",
       "                                                                   SimpleImputer())]),\n",
       "                                                  ['fireplaces', 'market_value',\n",
       "                                                   'number_of_rooms',\n",
       "                                                   'total_area',\n",
       "                                                   'total_livable_area']),\n",
       "                                                 ('categoric',\n",
       "                                                  Pipeline(steps=[('imputer',\n",
       "                                                                   SimpleImputer(strategy='most_frequent')),\n",
       "                                                                  ('encoder',\n",
       "                                                                   OneHotEncoder(handle_unknown='ignore'))]),\n",
       "                                                  ['basements', 'central_air',\n",
       "                                                   'exterior_condition',\n",
       "                                                   'garage_type',\n",
       "                                                   'interior_condition',\n",
       "                                                   'parcel_shape', 'topography',\n",
       "                                                   'type_heater', 'view_type',\n",
       "                                                   'building_description'])])),\n",
       "                ('algo',\n",
       "                 DecisionTreeClassifier(max_depth=4, max_features=0.5,\n",
       "                                        min_samples_leaf=4, random_state=42))])"
      ]
     },
     "execution_count": 91,
     "metadata": {},
     "output_type": "execute_result"
    }
   ],
   "source": [
    "pipeDT_Tuning.fit(X_train, y_train)"
   ]
  },
  {
   "cell_type": "code",
   "execution_count": 92,
   "metadata": {},
   "outputs": [],
   "source": [
    "y_train_DT_Fine_Tuned = pipeDT_Tuning.predict(X_train)"
   ]
  },
  {
   "cell_type": "code",
   "execution_count": 93,
   "metadata": {},
   "outputs": [],
   "source": [
    "y_test_DT_Fine_Tuned = pipeDT_Tuning.predict(X_test)"
   ]
  },
  {
   "cell_type": "code",
   "execution_count": 94,
   "metadata": {},
   "outputs": [
    {
     "data": {
      "text/plain": [
       "0.9324472419703824"
      ]
     },
     "execution_count": 94,
     "metadata": {},
     "output_type": "execute_result"
    }
   ],
   "source": [
    "accuracy_train_DT_FineTune = accuracy_score(y_train, y_train_DT_Fine_Tuned)\n",
    "accuracy_train_DT_FineTune"
   ]
  },
  {
   "cell_type": "code",
   "execution_count": 95,
   "metadata": {},
   "outputs": [
    {
     "data": {
      "text/plain": [
       "0.9337979094076655"
      ]
     },
     "execution_count": 95,
     "metadata": {},
     "output_type": "execute_result"
    }
   ],
   "source": [
    "accuracy_test_DT_FineTune = accuracy_score(y_test, y_test_DT_Fine_Tuned)\n",
    "accuracy_test_DT_FineTune"
   ]
  },
  {
   "cell_type": "code",
   "execution_count": 96,
   "metadata": {},
   "outputs": [
    {
     "data": {
      "text/plain": [
       "0.9280790108696569"
      ]
     },
     "execution_count": 96,
     "metadata": {},
     "output_type": "execute_result"
    }
   ],
   "source": [
    "f1score_train_DT_FineTune = f1_score(y_train, y_train_DT_Fine_Tuned, average='weighted')\n",
    "f1score_train_DT_FineTune"
   ]
  },
  {
   "cell_type": "code",
   "execution_count": 97,
   "metadata": {},
   "outputs": [
    {
     "data": {
      "text/plain": [
       "0.9296774989136435"
      ]
     },
     "execution_count": 97,
     "metadata": {},
     "output_type": "execute_result"
    }
   ],
   "source": [
    "f1score_test_DT_FineTune = f1_score(y_test, y_test_DT_Fine_Tuned, average='weighted')\n",
    "f1score_test_DT_FineTune"
   ]
  },
  {
   "cell_type": "code",
   "execution_count": 98,
   "metadata": {},
   "outputs": [
    {
     "name": "stdout",
     "output_type": "stream",
     "text": [
      "              precision    recall  f1-score   support\n",
      "\n",
      "      Bottom       1.00      0.97      0.98      4788\n",
      "Lower Middle       0.89      0.98      0.93      3089\n",
      "      Middle       0.77      0.74      0.76       826\n",
      "         Top       0.00      0.00      0.00        42\n",
      "Upper Middle       0.46      0.27      0.34       152\n",
      "\n",
      "    accuracy                           0.93      8897\n",
      "   macro avg       0.62      0.59      0.60      8897\n",
      "weighted avg       0.93      0.93      0.93      8897\n",
      "\n"
     ]
    }
   ],
   "source": [
    "print(classification_report(y_test, y_test_DT_Fine_Tuned))"
   ]
  },
  {
   "cell_type": "markdown",
   "metadata": {},
   "source": [
    "## RandomForestClassifier"
   ]
  },
  {
   "cell_type": "code",
   "execution_count": 99,
   "metadata": {},
   "outputs": [],
   "source": [
    "pipeRF_tuning = Pipeline([\n",
    "    (\"prep\", preprocessor),\n",
    "    (\"algo\", RandomForestClassifier(n_estimators = 100, max_depth= None, min_samples_leaf= 2, max_features= 0.3))\n",
    "])"
   ]
  },
  {
   "cell_type": "code",
   "execution_count": 100,
   "metadata": {},
   "outputs": [
    {
     "data": {
      "text/plain": [
       "Pipeline(steps=[('prep',\n",
       "                 ColumnTransformer(transformers=[('numeric',\n",
       "                                                  Pipeline(steps=[('imputer',\n",
       "                                                                   SimpleImputer())]),\n",
       "                                                  ['fireplaces', 'market_value',\n",
       "                                                   'number_of_rooms',\n",
       "                                                   'total_area',\n",
       "                                                   'total_livable_area']),\n",
       "                                                 ('categoric',\n",
       "                                                  Pipeline(steps=[('imputer',\n",
       "                                                                   SimpleImputer(strategy='most_frequent')),\n",
       "                                                                  ('encoder',\n",
       "                                                                   OneHotEncoder(handle_unknown='ignore'))]),\n",
       "                                                  ['basements', 'central_air',\n",
       "                                                   'exterior_condition',\n",
       "                                                   'garage_type',\n",
       "                                                   'interior_condition',\n",
       "                                                   'parcel_shape', 'topography',\n",
       "                                                   'type_heater', 'view_type',\n",
       "                                                   'building_description'])])),\n",
       "                ('algo',\n",
       "                 RandomForestClassifier(max_features=0.3, min_samples_leaf=2))])"
      ]
     },
     "execution_count": 100,
     "metadata": {},
     "output_type": "execute_result"
    }
   ],
   "source": [
    "pipeRF_tuning.fit(X_train, y_train)"
   ]
  },
  {
   "cell_type": "code",
   "execution_count": 101,
   "metadata": {},
   "outputs": [],
   "source": [
    "y_train_RF_Fine_Tuned = pipeRF_tuning.predict(X_train)"
   ]
  },
  {
   "cell_type": "code",
   "execution_count": 102,
   "metadata": {},
   "outputs": [],
   "source": [
    "y_test_RF_Fine_Tuned = pipeRF_tuning.predict(X_test)"
   ]
  },
  {
   "cell_type": "code",
   "execution_count": 103,
   "metadata": {},
   "outputs": [
    {
     "data": {
      "text/plain": [
       "0.9999718998510692"
      ]
     },
     "execution_count": 103,
     "metadata": {},
     "output_type": "execute_result"
    }
   ],
   "source": [
    "accuracy_train_RF_FineTune = accuracy_score(y_train, y_train_RF_Fine_Tuned)\n",
    "accuracy_train_RF_FineTune"
   ]
  },
  {
   "cell_type": "code",
   "execution_count": 104,
   "metadata": {},
   "outputs": [
    {
     "data": {
      "text/plain": [
       "0.9997752051253231"
      ]
     },
     "execution_count": 104,
     "metadata": {},
     "output_type": "execute_result"
    }
   ],
   "source": [
    "accuracy_test_RF_FineTune = accuracy_score(y_test, y_test_RF_Fine_Tuned)\n",
    "accuracy_test_RF_FineTune"
   ]
  },
  {
   "cell_type": "code",
   "execution_count": 105,
   "metadata": {},
   "outputs": [
    {
     "data": {
      "text/plain": [
       "0.9999718996492346"
      ]
     },
     "execution_count": 105,
     "metadata": {},
     "output_type": "execute_result"
    }
   ],
   "source": [
    "f1score_train_RF_FineTune = f1_score(y_train, y_train_RF_Fine_Tuned, average='weighted')\n",
    "f1score_train_RF_FineTune"
   ]
  },
  {
   "cell_type": "code",
   "execution_count": 106,
   "metadata": {},
   "outputs": [
    {
     "data": {
      "text/plain": [
       "0.9997746873463369"
      ]
     },
     "execution_count": 106,
     "metadata": {},
     "output_type": "execute_result"
    }
   ],
   "source": [
    "f1score_test_RF_FineTune = f1_score(y_test, y_test_RF_Fine_Tuned, average='weighted')\n",
    "f1score_test_RF_FineTune"
   ]
  },
  {
   "cell_type": "code",
   "execution_count": 107,
   "metadata": {},
   "outputs": [
    {
     "name": "stdout",
     "output_type": "stream",
     "text": [
      "              precision    recall  f1-score   support\n",
      "\n",
      "      Bottom       1.00      0.97      0.98      4788\n",
      "Lower Middle       0.89      0.98      0.93      3089\n",
      "      Middle       0.77      0.74      0.76       826\n",
      "         Top       0.00      0.00      0.00        42\n",
      "Upper Middle       0.46      0.27      0.34       152\n",
      "\n",
      "    accuracy                           0.93      8897\n",
      "   macro avg       0.62      0.59      0.60      8897\n",
      "weighted avg       0.93      0.93      0.93      8897\n",
      "\n"
     ]
    }
   ],
   "source": [
    "print(classification_report(y_test, y_test_DT_Fine_Tuned))"
   ]
  },
  {
   "cell_type": "markdown",
   "metadata": {},
   "source": [
    "# ================================================="
   ]
  },
  {
   "cell_type": "markdown",
   "metadata": {},
   "source": [
    "# Random Over Sampling"
   ]
  },
  {
   "cell_type": "code",
   "execution_count": 108,
   "metadata": {},
   "outputs": [],
   "source": [
    "from sklearn.utils import resample"
   ]
  },
  {
   "cell_type": "code",
   "execution_count": 109,
   "metadata": {},
   "outputs": [],
   "source": [
    "df_train = pd.concat([X_train, y_train], axis=1)"
   ]
  },
  {
   "cell_type": "code",
   "execution_count": 110,
   "metadata": {},
   "outputs": [
    {
     "data": {
      "text/plain": [
       "Bottom          19150\n",
       "Lower Middle    12354\n",
       "Middle           3306\n",
       "Upper Middle      608\n",
       "Top               169\n",
       "Name: segment, dtype: int64"
      ]
     },
     "execution_count": 110,
     "metadata": {},
     "output_type": "execute_result"
    }
   ],
   "source": [
    "df_train['segment'].value_counts()"
   ]
  },
  {
   "cell_type": "code",
   "execution_count": 111,
   "metadata": {},
   "outputs": [],
   "source": [
    "top = df_train[df_train['segment'] == 'Top'] ## Minority Class\n",
    "upper_middle = df_train[df_train['segment'] == 'Upper Middle']\n",
    "middle = df_train[df_train['segment'] == 'Middle']"
   ]
  },
  {
   "cell_type": "code",
   "execution_count": 112,
   "metadata": {},
   "outputs": [],
   "source": [
    "lower_middle = df_train[df_train['segment'] == 'Lower Middle'] ## Majority Class\n"
   ]
  },
  {
   "cell_type": "code",
   "execution_count": 113,
   "metadata": {},
   "outputs": [],
   "source": [
    "bottom = df_train[df_train['segment'] == 'Bottom'] ## Majority Class\n"
   ]
  },
  {
   "cell_type": "code",
   "execution_count": 114,
   "metadata": {},
   "outputs": [],
   "source": [
    "top_oversample = resample(top, ## Minority Class\n",
    "                           replace=True,\n",
    "                           n_samples=len(bottom), ## Majority Class\n",
    "                           random_state = 42)\n",
    "upper_middle_oversample = resample(upper_middle, ## Minority Class\n",
    "                           replace=True,\n",
    "                           n_samples=len(bottom), ## Majority Class\n",
    "                           random_state = 42)\n",
    "middle_oversample = resample(middle, ## Kelas Minority\n",
    "                           replace=True,\n",
    "                           n_samples=len(bottom), ## Majority Class\n",
    "                           random_state = 42)"
   ]
  },
  {
   "cell_type": "code",
   "execution_count": 115,
   "metadata": {},
   "outputs": [],
   "source": [
    "df_OverSample = pd.concat([bottom, lower_middle, top_oversample, upper_middle_oversample, middle_oversample])"
   ]
  },
  {
   "cell_type": "code",
   "execution_count": 116,
   "metadata": {},
   "outputs": [],
   "source": [
    "df_sample = df_OverSample[['basements', 'central_air', 'exterior_condition', 'fireplaces', 'garage_type', 'interior_condition', 'market_value', 'number_of_rooms', 'parcel_shape', 'topography', 'total_area', 'total_livable_area', 'type_heater', 'view_type', 'building_description', 'segment']]"
   ]
  },
  {
   "cell_type": "code",
   "execution_count": 117,
   "metadata": {},
   "outputs": [
    {
     "data": {
      "text/html": [
       "<div>\n",
       "<style scoped>\n",
       "    .dataframe tbody tr th:only-of-type {\n",
       "        vertical-align: middle;\n",
       "    }\n",
       "\n",
       "    .dataframe tbody tr th {\n",
       "        vertical-align: top;\n",
       "    }\n",
       "\n",
       "    .dataframe thead th {\n",
       "        text-align: right;\n",
       "    }\n",
       "</style>\n",
       "<table border=\"1\" class=\"dataframe\">\n",
       "  <thead>\n",
       "    <tr style=\"text-align: right;\">\n",
       "      <th></th>\n",
       "      <th>basements</th>\n",
       "      <th>central_air</th>\n",
       "      <th>exterior_condition</th>\n",
       "      <th>fireplaces</th>\n",
       "      <th>garage_type</th>\n",
       "      <th>interior_condition</th>\n",
       "      <th>market_value</th>\n",
       "      <th>number_of_rooms</th>\n",
       "      <th>parcel_shape</th>\n",
       "      <th>topography</th>\n",
       "      <th>total_area</th>\n",
       "      <th>total_livable_area</th>\n",
       "      <th>type_heater</th>\n",
       "      <th>view_type</th>\n",
       "      <th>building_description</th>\n",
       "      <th>segment</th>\n",
       "    </tr>\n",
       "  </thead>\n",
       "  <tbody>\n",
       "    <tr>\n",
       "      <th>26702</th>\n",
       "      <td>H</td>\n",
       "      <td>N</td>\n",
       "      <td>4.0</td>\n",
       "      <td>0.0</td>\n",
       "      <td>A</td>\n",
       "      <td>4.0</td>\n",
       "      <td>127600.0</td>\n",
       "      <td>6.0</td>\n",
       "      <td>E</td>\n",
       "      <td>6</td>\n",
       "      <td>1920.00</td>\n",
       "      <td>1504.0</td>\n",
       "      <td>B</td>\n",
       "      <td>I</td>\n",
       "      <td>MASONRY</td>\n",
       "      <td>Bottom</td>\n",
       "    </tr>\n",
       "    <tr>\n",
       "      <th>5344</th>\n",
       "      <td>H</td>\n",
       "      <td>N</td>\n",
       "      <td>4.0</td>\n",
       "      <td>0.0</td>\n",
       "      <td>A</td>\n",
       "      <td>4.0</td>\n",
       "      <td>123100.0</td>\n",
       "      <td>6.0</td>\n",
       "      <td>E</td>\n",
       "      <td>6</td>\n",
       "      <td>2326.50</td>\n",
       "      <td>1911.0</td>\n",
       "      <td>A</td>\n",
       "      <td>I</td>\n",
       "      <td>MASONRY</td>\n",
       "      <td>Bottom</td>\n",
       "    </tr>\n",
       "    <tr>\n",
       "      <th>26636</th>\n",
       "      <td>H</td>\n",
       "      <td>N</td>\n",
       "      <td>4.0</td>\n",
       "      <td>0.0</td>\n",
       "      <td>A</td>\n",
       "      <td>4.0</td>\n",
       "      <td>138900.0</td>\n",
       "      <td>7.0</td>\n",
       "      <td>E</td>\n",
       "      <td>6</td>\n",
       "      <td>2286.90</td>\n",
       "      <td>1552.0</td>\n",
       "      <td>B</td>\n",
       "      <td>I</td>\n",
       "      <td>MASONRY</td>\n",
       "      <td>Bottom</td>\n",
       "    </tr>\n",
       "    <tr>\n",
       "      <th>3475</th>\n",
       "      <td>F</td>\n",
       "      <td>N</td>\n",
       "      <td>4.0</td>\n",
       "      <td>0.0</td>\n",
       "      <td>A</td>\n",
       "      <td>4.0</td>\n",
       "      <td>133000.0</td>\n",
       "      <td>6.0</td>\n",
       "      <td>B</td>\n",
       "      <td>6</td>\n",
       "      <td>3911.20</td>\n",
       "      <td>1260.0</td>\n",
       "      <td>A</td>\n",
       "      <td>I</td>\n",
       "      <td>STONE</td>\n",
       "      <td>Bottom</td>\n",
       "    </tr>\n",
       "    <tr>\n",
       "      <th>4930</th>\n",
       "      <td>D</td>\n",
       "      <td>N</td>\n",
       "      <td>4.0</td>\n",
       "      <td>0.0</td>\n",
       "      <td>0</td>\n",
       "      <td>4.0</td>\n",
       "      <td>116900.0</td>\n",
       "      <td>7.0</td>\n",
       "      <td>E</td>\n",
       "      <td>6</td>\n",
       "      <td>1604.00</td>\n",
       "      <td>1544.0</td>\n",
       "      <td>H</td>\n",
       "      <td>I</td>\n",
       "      <td>MASONRY</td>\n",
       "      <td>Bottom</td>\n",
       "    </tr>\n",
       "    <tr>\n",
       "      <th>...</th>\n",
       "      <td>...</td>\n",
       "      <td>...</td>\n",
       "      <td>...</td>\n",
       "      <td>...</td>\n",
       "      <td>...</td>\n",
       "      <td>...</td>\n",
       "      <td>...</td>\n",
       "      <td>...</td>\n",
       "      <td>...</td>\n",
       "      <td>...</td>\n",
       "      <td>...</td>\n",
       "      <td>...</td>\n",
       "      <td>...</td>\n",
       "      <td>...</td>\n",
       "      <td>...</td>\n",
       "      <td>...</td>\n",
       "    </tr>\n",
       "    <tr>\n",
       "      <th>7091</th>\n",
       "      <td>D</td>\n",
       "      <td>N</td>\n",
       "      <td>4.0</td>\n",
       "      <td>1.0</td>\n",
       "      <td>C</td>\n",
       "      <td>4.0</td>\n",
       "      <td>350700.0</td>\n",
       "      <td>8.0</td>\n",
       "      <td>E</td>\n",
       "      <td>1</td>\n",
       "      <td>2221.92</td>\n",
       "      <td>2423.0</td>\n",
       "      <td>B</td>\n",
       "      <td>I</td>\n",
       "      <td>MASONRY</td>\n",
       "      <td>Middle</td>\n",
       "    </tr>\n",
       "    <tr>\n",
       "      <th>21832</th>\n",
       "      <td>H</td>\n",
       "      <td>Y</td>\n",
       "      <td>4.0</td>\n",
       "      <td>0.0</td>\n",
       "      <td>F</td>\n",
       "      <td>4.0</td>\n",
       "      <td>328600.0</td>\n",
       "      <td>7.0</td>\n",
       "      <td>E</td>\n",
       "      <td>6</td>\n",
       "      <td>1495.81</td>\n",
       "      <td>1370.0</td>\n",
       "      <td>H</td>\n",
       "      <td>I</td>\n",
       "      <td>MASONRY</td>\n",
       "      <td>Middle</td>\n",
       "    </tr>\n",
       "    <tr>\n",
       "      <th>13963</th>\n",
       "      <td>0</td>\n",
       "      <td>Y</td>\n",
       "      <td>4.0</td>\n",
       "      <td>1.0</td>\n",
       "      <td>B</td>\n",
       "      <td>4.0</td>\n",
       "      <td>323900.0</td>\n",
       "      <td>9.0</td>\n",
       "      <td>A</td>\n",
       "      <td>6</td>\n",
       "      <td>6850.00</td>\n",
       "      <td>2042.0</td>\n",
       "      <td>A</td>\n",
       "      <td>I</td>\n",
       "      <td>FRAME</td>\n",
       "      <td>Middle</td>\n",
       "    </tr>\n",
       "    <tr>\n",
       "      <th>10010</th>\n",
       "      <td>F</td>\n",
       "      <td>Y</td>\n",
       "      <td>3.0</td>\n",
       "      <td>1.0</td>\n",
       "      <td>A</td>\n",
       "      <td>3.0</td>\n",
       "      <td>463900.0</td>\n",
       "      <td>11.0</td>\n",
       "      <td>A</td>\n",
       "      <td>1</td>\n",
       "      <td>16299.00</td>\n",
       "      <td>3264.0</td>\n",
       "      <td>A</td>\n",
       "      <td>C</td>\n",
       "      <td>FRAME</td>\n",
       "      <td>Middle</td>\n",
       "    </tr>\n",
       "    <tr>\n",
       "      <th>16488</th>\n",
       "      <td>D</td>\n",
       "      <td>Y</td>\n",
       "      <td>2.0</td>\n",
       "      <td>0.0</td>\n",
       "      <td>C</td>\n",
       "      <td>2.0</td>\n",
       "      <td>527000.0</td>\n",
       "      <td>11.0</td>\n",
       "      <td>E</td>\n",
       "      <td>6</td>\n",
       "      <td>22362.69</td>\n",
       "      <td>3260.0</td>\n",
       "      <td>B</td>\n",
       "      <td>I</td>\n",
       "      <td>STONE</td>\n",
       "      <td>Middle</td>\n",
       "    </tr>\n",
       "  </tbody>\n",
       "</table>\n",
       "<p>88954 rows × 16 columns</p>\n",
       "</div>"
      ],
      "text/plain": [
       "      basements central_air  exterior_condition  fireplaces garage_type  \\\n",
       "26702         H           N                 4.0         0.0           A   \n",
       "5344          H           N                 4.0         0.0           A   \n",
       "26636         H           N                 4.0         0.0           A   \n",
       "3475          F           N                 4.0         0.0           A   \n",
       "4930          D           N                 4.0         0.0           0   \n",
       "...         ...         ...                 ...         ...         ...   \n",
       "7091          D           N                 4.0         1.0           C   \n",
       "21832         H           Y                 4.0         0.0           F   \n",
       "13963         0           Y                 4.0         1.0           B   \n",
       "10010         F           Y                 3.0         1.0           A   \n",
       "16488         D           Y                 2.0         0.0           C   \n",
       "\n",
       "       interior_condition  market_value  number_of_rooms parcel_shape  \\\n",
       "26702                 4.0      127600.0              6.0            E   \n",
       "5344                  4.0      123100.0              6.0            E   \n",
       "26636                 4.0      138900.0              7.0            E   \n",
       "3475                  4.0      133000.0              6.0            B   \n",
       "4930                  4.0      116900.0              7.0            E   \n",
       "...                   ...           ...              ...          ...   \n",
       "7091                  4.0      350700.0              8.0            E   \n",
       "21832                 4.0      328600.0              7.0            E   \n",
       "13963                 4.0      323900.0              9.0            A   \n",
       "10010                 3.0      463900.0             11.0            A   \n",
       "16488                 2.0      527000.0             11.0            E   \n",
       "\n",
       "       topography  total_area  total_livable_area type_heater view_type  \\\n",
       "26702           6     1920.00              1504.0           B         I   \n",
       "5344            6     2326.50              1911.0           A         I   \n",
       "26636           6     2286.90              1552.0           B         I   \n",
       "3475            6     3911.20              1260.0           A         I   \n",
       "4930            6     1604.00              1544.0           H         I   \n",
       "...           ...         ...                 ...         ...       ...   \n",
       "7091            1     2221.92              2423.0           B         I   \n",
       "21832           6     1495.81              1370.0           H         I   \n",
       "13963           6     6850.00              2042.0           A         I   \n",
       "10010           1    16299.00              3264.0           A         C   \n",
       "16488           6    22362.69              3260.0           B         I   \n",
       "\n",
       "      building_description segment  \n",
       "26702              MASONRY  Bottom  \n",
       "5344               MASONRY  Bottom  \n",
       "26636              MASONRY  Bottom  \n",
       "3475                 STONE  Bottom  \n",
       "4930               MASONRY  Bottom  \n",
       "...                    ...     ...  \n",
       "7091               MASONRY  Middle  \n",
       "21832              MASONRY  Middle  \n",
       "13963                FRAME  Middle  \n",
       "10010                FRAME  Middle  \n",
       "16488                STONE  Middle  \n",
       "\n",
       "[88954 rows x 16 columns]"
      ]
     },
     "execution_count": 117,
     "metadata": {},
     "output_type": "execute_result"
    }
   ],
   "source": [
    "df_sample"
   ]
  },
  {
   "cell_type": "code",
   "execution_count": 118,
   "metadata": {},
   "outputs": [],
   "source": [
    "X_train_OS = df_sample.drop(columns='segment')\n",
    "y_train_OS = df_sample['segment']"
   ]
  },
  {
   "cell_type": "markdown",
   "metadata": {},
   "source": [
    "## LogisticRegression Random Over Sampling (Base Model)"
   ]
  },
  {
   "cell_type": "code",
   "execution_count": 119,
   "metadata": {},
   "outputs": [
    {
     "data": {
      "text/plain": [
       "Pipeline(steps=[('prep',\n",
       "                 ColumnTransformer(transformers=[('numeric',\n",
       "                                                  Pipeline(steps=[('imputer',\n",
       "                                                                   SimpleImputer())]),\n",
       "                                                  ['fireplaces', 'market_value',\n",
       "                                                   'number_of_rooms',\n",
       "                                                   'total_area',\n",
       "                                                   'total_livable_area']),\n",
       "                                                 ('categoric',\n",
       "                                                  Pipeline(steps=[('imputer',\n",
       "                                                                   SimpleImputer(strategy='most_frequent')),\n",
       "                                                                  ('encoder',\n",
       "                                                                   OneHotEncoder(handle_unknown='ignore'))]),\n",
       "                                                  ['basements', 'central_air',\n",
       "                                                   'exterior_condition',\n",
       "                                                   'garage_type',\n",
       "                                                   'interior_condition',\n",
       "                                                   'parcel_shape', 'topography',\n",
       "                                                   'type_heater', 'view_type',\n",
       "                                                   'building_description'])])),\n",
       "                ('algo', LogisticRegression())])"
      ]
     },
     "execution_count": 119,
     "metadata": {},
     "output_type": "execute_result"
    }
   ],
   "source": [
    "pipeLR.fit(X_train_OS, y_train_OS)"
   ]
  },
  {
   "cell_type": "code",
   "execution_count": 120,
   "metadata": {},
   "outputs": [],
   "source": [
    "y_LR_trainOS = pipeLR.predict(X_train)"
   ]
  },
  {
   "cell_type": "code",
   "execution_count": 121,
   "metadata": {},
   "outputs": [],
   "source": [
    "y_LR_testOS = pipeLR.predict(X_test)"
   ]
  },
  {
   "cell_type": "code",
   "execution_count": 122,
   "metadata": {},
   "outputs": [
    {
     "data": {
      "text/plain": [
       "0.4732065079944924"
      ]
     },
     "execution_count": 122,
     "metadata": {},
     "output_type": "execute_result"
    }
   ],
   "source": [
    "accuracy_train_LR_base_OS = accuracy_score(y_train, y_LR_trainOS)\n",
    "accuracy_train_LR_base_OS"
   ]
  },
  {
   "cell_type": "code",
   "execution_count": 123,
   "metadata": {},
   "outputs": [
    {
     "data": {
      "text/plain": [
       "0.47397999325615375"
      ]
     },
     "execution_count": 123,
     "metadata": {},
     "output_type": "execute_result"
    }
   ],
   "source": [
    "accuracy_test_LR_base_OS = accuracy_score(y_test, y_LR_testOS)\n",
    "accuracy_test_LR_base_OS"
   ]
  },
  {
   "cell_type": "code",
   "execution_count": 124,
   "metadata": {},
   "outputs": [
    {
     "data": {
      "text/plain": [
       "0.47132841249686086"
      ]
     },
     "execution_count": 124,
     "metadata": {},
     "output_type": "execute_result"
    }
   ],
   "source": [
    "f1score_train_LR_base_OS = f1_score(y_train, y_LR_trainOS, average='weighted')\n",
    "f1score_train_LR_base_OS"
   ]
  },
  {
   "cell_type": "code",
   "execution_count": 125,
   "metadata": {},
   "outputs": [
    {
     "data": {
      "text/plain": [
       "0.47001144848530213"
      ]
     },
     "execution_count": 125,
     "metadata": {},
     "output_type": "execute_result"
    }
   ],
   "source": [
    "f1score_test_LR_base_OS = f1_score(y_test, y_LR_testOS, average='weighted')\n",
    "f1score_test_LR_base_OS"
   ]
  },
  {
   "cell_type": "code",
   "execution_count": 126,
   "metadata": {},
   "outputs": [
    {
     "name": "stdout",
     "output_type": "stream",
     "text": [
      "              precision    recall  f1-score   support\n",
      "\n",
      "      Bottom       0.90      0.79      0.84      4788\n",
      "Lower Middle       0.00      0.00      0.00      3089\n",
      "      Middle       0.11      0.45      0.17       826\n",
      "         Top       0.05      0.79      0.09        42\n",
      "Upper Middle       0.05      0.20      0.08       152\n",
      "\n",
      "    accuracy                           0.47      8897\n",
      "   macro avg       0.22      0.44      0.24      8897\n",
      "weighted avg       0.49      0.47      0.47      8897\n",
      "\n"
     ]
    }
   ],
   "source": [
    "print(classification_report(y_test, y_LR_testOS))"
   ]
  },
  {
   "cell_type": "markdown",
   "metadata": {},
   "source": [
    "## KNN Random Over Sampling (Base Model)"
   ]
  },
  {
   "cell_type": "code",
   "execution_count": 127,
   "metadata": {},
   "outputs": [
    {
     "data": {
      "text/plain": [
       "Pipeline(steps=[('prep',\n",
       "                 ColumnTransformer(transformers=[('numeric',\n",
       "                                                  Pipeline(steps=[('imputer',\n",
       "                                                                   SimpleImputer())]),\n",
       "                                                  ['fireplaces', 'market_value',\n",
       "                                                   'number_of_rooms',\n",
       "                                                   'total_area',\n",
       "                                                   'total_livable_area']),\n",
       "                                                 ('categoric',\n",
       "                                                  Pipeline(steps=[('imputer',\n",
       "                                                                   SimpleImputer(strategy='most_frequent')),\n",
       "                                                                  ('encoder',\n",
       "                                                                   OneHotEncoder(handle_unknown='ignore'))]),\n",
       "                                                  ['basements', 'central_air',\n",
       "                                                   'exterior_condition',\n",
       "                                                   'garage_type',\n",
       "                                                   'interior_condition',\n",
       "                                                   'parcel_shape', 'topography',\n",
       "                                                   'type_heater', 'view_type',\n",
       "                                                   'building_description'])])),\n",
       "                ('algo', KNeighborsClassifier())])"
      ]
     },
     "execution_count": 127,
     "metadata": {},
     "output_type": "execute_result"
    }
   ],
   "source": [
    "pipeKNN.fit(X_train_OS, y_train_OS)"
   ]
  },
  {
   "cell_type": "code",
   "execution_count": 128,
   "metadata": {},
   "outputs": [],
   "source": [
    "y_KNN_trainOS = pipeKNN.predict(X_train)"
   ]
  },
  {
   "cell_type": "code",
   "execution_count": 129,
   "metadata": {},
   "outputs": [],
   "source": [
    "y_KNN_testOS = pipeKNN.predict(X_test)"
   ]
  },
  {
   "cell_type": "code",
   "execution_count": 130,
   "metadata": {},
   "outputs": [
    {
     "data": {
      "text/plain": [
       "0.999606597914969"
      ]
     },
     "execution_count": 130,
     "metadata": {},
     "output_type": "execute_result"
    }
   ],
   "source": [
    "accuracy_train_KNN_base_OS = accuracy_score(y_train, y_KNN_trainOS)\n",
    "accuracy_train_KNN_base_OS"
   ]
  },
  {
   "cell_type": "code",
   "execution_count": 131,
   "metadata": {},
   "outputs": [
    {
     "data": {
      "text/plain": [
       "0.9987636281892773"
      ]
     },
     "execution_count": 131,
     "metadata": {},
     "output_type": "execute_result"
    }
   ],
   "source": [
    "accuracy_test_KNN_base_OS = accuracy_score(y_test, y_KNN_testOS)\n",
    "accuracy_test_KNN_base_OS"
   ]
  },
  {
   "cell_type": "code",
   "execution_count": 132,
   "metadata": {},
   "outputs": [
    {
     "data": {
      "text/plain": [
       "0.9996066731621882"
      ]
     },
     "execution_count": 132,
     "metadata": {},
     "output_type": "execute_result"
    }
   ],
   "source": [
    "f1score_train_KNN_base_OS = f1_score(y_train, y_KNN_trainOS, average='weighted')\n",
    "f1score_train_KNN_base_OS"
   ]
  },
  {
   "cell_type": "code",
   "execution_count": 133,
   "metadata": {},
   "outputs": [
    {
     "data": {
      "text/plain": [
       "0.9987646464283294"
      ]
     },
     "execution_count": 133,
     "metadata": {},
     "output_type": "execute_result"
    }
   ],
   "source": [
    "f1score_test_KNN_base_OS = f1_score(y_test, y_KNN_testOS, average='weighted')\n",
    "f1score_test_KNN_base_OS"
   ]
  },
  {
   "cell_type": "code",
   "execution_count": 134,
   "metadata": {},
   "outputs": [
    {
     "name": "stdout",
     "output_type": "stream",
     "text": [
      "              precision    recall  f1-score   support\n",
      "\n",
      "      Bottom       1.00      1.00      1.00      4788\n",
      "Lower Middle       1.00      1.00      1.00      3089\n",
      "      Middle       0.99      1.00      0.99       826\n",
      "         Top       1.00      1.00      1.00        42\n",
      "Upper Middle       0.99      0.99      0.99       152\n",
      "\n",
      "    accuracy                           1.00      8897\n",
      "   macro avg       1.00      1.00      1.00      8897\n",
      "weighted avg       1.00      1.00      1.00      8897\n",
      "\n"
     ]
    }
   ],
   "source": [
    "print(classification_report(y_test, y_KNN_testOS))"
   ]
  },
  {
   "cell_type": "markdown",
   "metadata": {},
   "source": [
    "## DecisionTreeClassifier Random Over Sample (Base Model)"
   ]
  },
  {
   "cell_type": "code",
   "execution_count": 135,
   "metadata": {},
   "outputs": [
    {
     "data": {
      "text/plain": [
       "Pipeline(steps=[('prep',\n",
       "                 ColumnTransformer(transformers=[('numeric',\n",
       "                                                  Pipeline(steps=[('imputer',\n",
       "                                                                   SimpleImputer())]),\n",
       "                                                  ['fireplaces', 'market_value',\n",
       "                                                   'number_of_rooms',\n",
       "                                                   'total_area',\n",
       "                                                   'total_livable_area']),\n",
       "                                                 ('categoric',\n",
       "                                                  Pipeline(steps=[('imputer',\n",
       "                                                                   SimpleImputer(strategy='most_frequent')),\n",
       "                                                                  ('encoder',\n",
       "                                                                   OneHotEncoder(handle_unknown='ignore'))]),\n",
       "                                                  ['basements', 'central_air',\n",
       "                                                   'exterior_condition',\n",
       "                                                   'garage_type',\n",
       "                                                   'interior_condition',\n",
       "                                                   'parcel_shape', 'topography',\n",
       "                                                   'type_heater', 'view_type',\n",
       "                                                   'building_description'])])),\n",
       "                ('algo', DecisionTreeClassifier())])"
      ]
     },
     "execution_count": 135,
     "metadata": {},
     "output_type": "execute_result"
    }
   ],
   "source": [
    "pipeDT.fit(X_train_OS, y_train_OS)"
   ]
  },
  {
   "cell_type": "code",
   "execution_count": 136,
   "metadata": {},
   "outputs": [],
   "source": [
    "y_DT_trainOS = pipeDT.predict(X_train)"
   ]
  },
  {
   "cell_type": "code",
   "execution_count": 137,
   "metadata": {},
   "outputs": [],
   "source": [
    "y_DT_testOS = pipeDT.predict(X_test)"
   ]
  },
  {
   "cell_type": "code",
   "execution_count": 138,
   "metadata": {},
   "outputs": [
    {
     "data": {
      "text/plain": [
       "1.0"
      ]
     },
     "execution_count": 138,
     "metadata": {},
     "output_type": "execute_result"
    }
   ],
   "source": [
    "accuracy_train_DT_base_OS = accuracy_score(y_train, y_DT_trainOS)\n",
    "accuracy_train_DT_base_OS"
   ]
  },
  {
   "cell_type": "code",
   "execution_count": 139,
   "metadata": {},
   "outputs": [
    {
     "data": {
      "text/plain": [
       "0.9998876025626616"
      ]
     },
     "execution_count": 139,
     "metadata": {},
     "output_type": "execute_result"
    }
   ],
   "source": [
    "accuracy_test_DT_base_OS = accuracy_score(y_test, y_DT_testOS)\n",
    "accuracy_test_DT_base_OS"
   ]
  },
  {
   "cell_type": "code",
   "execution_count": 140,
   "metadata": {},
   "outputs": [
    {
     "data": {
      "text/plain": [
       "1.0"
      ]
     },
     "execution_count": 140,
     "metadata": {},
     "output_type": "execute_result"
    }
   ],
   "source": [
    "f1score_train_DT_base_OS = f1_score(y_train, y_DT_trainOS, average='weighted')\n",
    "f1score_train_DT_base_OS"
   ]
  },
  {
   "cell_type": "code",
   "execution_count": 141,
   "metadata": {},
   "outputs": [
    {
     "data": {
      "text/plain": [
       "0.9998875776185774"
      ]
     },
     "execution_count": 141,
     "metadata": {},
     "output_type": "execute_result"
    }
   ],
   "source": [
    "f1score_test_DT_base_OS = f1_score(y_test, y_DT_testOS, average='weighted')\n",
    "f1score_test_DT_base_OS"
   ]
  },
  {
   "cell_type": "code",
   "execution_count": 142,
   "metadata": {},
   "outputs": [
    {
     "name": "stdout",
     "output_type": "stream",
     "text": [
      "              precision    recall  f1-score   support\n",
      "\n",
      "      Bottom       1.00      1.00      1.00      4788\n",
      "Lower Middle       1.00      1.00      1.00      3089\n",
      "      Middle       1.00      1.00      1.00       826\n",
      "         Top       1.00      1.00      1.00        42\n",
      "Upper Middle       1.00      1.00      1.00       152\n",
      "\n",
      "    accuracy                           1.00      8897\n",
      "   macro avg       1.00      1.00      1.00      8897\n",
      "weighted avg       1.00      1.00      1.00      8897\n",
      "\n"
     ]
    }
   ],
   "source": [
    "print(classification_report(y_test, y_DT_testOS))"
   ]
  },
  {
   "cell_type": "markdown",
   "metadata": {},
   "source": [
    "## DecisionTreeClassifier Random Over Sample (Fine Tuning)"
   ]
  },
  {
   "cell_type": "code",
   "execution_count": 143,
   "metadata": {},
   "outputs": [],
   "source": [
    "pipeDT_Tuning_OS = Pipeline([\n",
    "    (\"prep\", preprocessor),\n",
    "    (\"algo\", DecisionTreeClassifier(max_depth = 5, max_features = 0.4, min_samples_leaf = 2, min_samples_split = 2, random_state=42))\n",
    "])"
   ]
  },
  {
   "cell_type": "code",
   "execution_count": 144,
   "metadata": {},
   "outputs": [
    {
     "data": {
      "text/plain": [
       "Pipeline(steps=[('prep',\n",
       "                 ColumnTransformer(transformers=[('numeric',\n",
       "                                                  Pipeline(steps=[('imputer',\n",
       "                                                                   SimpleImputer())]),\n",
       "                                                  ['fireplaces', 'market_value',\n",
       "                                                   'number_of_rooms',\n",
       "                                                   'total_area',\n",
       "                                                   'total_livable_area']),\n",
       "                                                 ('categoric',\n",
       "                                                  Pipeline(steps=[('imputer',\n",
       "                                                                   SimpleImputer(strategy='most_frequent')),\n",
       "                                                                  ('encoder',\n",
       "                                                                   OneHotEncoder(handle_unknown='ignore'))]),\n",
       "                                                  ['basements', 'central_air',\n",
       "                                                   'exterior_condition',\n",
       "                                                   'garage_type',\n",
       "                                                   'interior_condition',\n",
       "                                                   'parcel_shape', 'topography',\n",
       "                                                   'type_heater', 'view_type',\n",
       "                                                   'building_description'])])),\n",
       "                ('algo',\n",
       "                 DecisionTreeClassifier(max_depth=5, max_features=0.4,\n",
       "                                        min_samples_leaf=2, random_state=42))])"
      ]
     },
     "execution_count": 144,
     "metadata": {},
     "output_type": "execute_result"
    }
   ],
   "source": [
    "pipeDT_Tuning_OS.fit(X_train_OS, y_train_OS)"
   ]
  },
  {
   "cell_type": "code",
   "execution_count": 145,
   "metadata": {},
   "outputs": [],
   "source": [
    "y_train_DT_Fine_TunedOS = pipeDT_Tuning_OS.predict(X_train)"
   ]
  },
  {
   "cell_type": "code",
   "execution_count": 146,
   "metadata": {},
   "outputs": [],
   "source": [
    "y_test_DT_Fine_TunedOS = pipeDT_Tuning_OS.predict(X_test)"
   ]
  },
  {
   "cell_type": "code",
   "execution_count": 147,
   "metadata": {},
   "outputs": [
    {
     "data": {
      "text/plain": [
       "0.9140416444207154"
      ]
     },
     "execution_count": 147,
     "metadata": {},
     "output_type": "execute_result"
    }
   ],
   "source": [
    "accuracy_train_DT_FineTune_OS = accuracy_score(y_train, y_train_DT_Fine_TunedOS)\n",
    "accuracy_train_DT_FineTune_OS"
   ]
  },
  {
   "cell_type": "code",
   "execution_count": 148,
   "metadata": {},
   "outputs": [
    {
     "data": {
      "text/plain": [
       "0.9182870630549623"
      ]
     },
     "execution_count": 148,
     "metadata": {},
     "output_type": "execute_result"
    }
   ],
   "source": [
    "accuracy_test_DT_FineTune_OS = accuracy_score(y_test, y_test_DT_Fine_TunedOS)\n",
    "accuracy_test_DT_FineTune_OS"
   ]
  },
  {
   "cell_type": "code",
   "execution_count": 149,
   "metadata": {},
   "outputs": [
    {
     "data": {
      "text/plain": [
       "0.9218799664739367"
      ]
     },
     "execution_count": 149,
     "metadata": {},
     "output_type": "execute_result"
    }
   ],
   "source": [
    "f1score_train_DT_FineTune_OS = f1_score(y_train, y_train_DT_Fine_TunedOS, average='weighted')\n",
    "f1score_train_DT_FineTune_OS"
   ]
  },
  {
   "cell_type": "code",
   "execution_count": 150,
   "metadata": {},
   "outputs": [
    {
     "data": {
      "text/plain": [
       "0.9255237598449414"
      ]
     },
     "execution_count": 150,
     "metadata": {},
     "output_type": "execute_result"
    }
   ],
   "source": [
    "f1score_test_DT_FineTune_OS = f1_score(y_test, y_test_DT_Fine_TunedOS, average='weighted')\n",
    "f1score_test_DT_FineTune_OS"
   ]
  },
  {
   "cell_type": "code",
   "execution_count": 151,
   "metadata": {},
   "outputs": [
    {
     "name": "stdout",
     "output_type": "stream",
     "text": [
      "              precision    recall  f1-score   support\n",
      "\n",
      "      Bottom       1.00      1.00      1.00      4788\n",
      "Lower Middle       1.00      0.81      0.89      3089\n",
      "      Middle       0.56      0.90      0.69       826\n",
      "         Top       0.52      0.76      0.62        42\n",
      "Upper Middle       0.53      0.77      0.63       152\n",
      "\n",
      "    accuracy                           0.92      8897\n",
      "   macro avg       0.72      0.85      0.76      8897\n",
      "weighted avg       0.95      0.92      0.93      8897\n",
      "\n"
     ]
    }
   ],
   "source": [
    "print(classification_report(y_test, y_test_DT_Fine_TunedOS))"
   ]
  },
  {
   "cell_type": "markdown",
   "metadata": {},
   "source": [
    "## RandomForestClassifier Random Over Sample (Fine Tuning)"
   ]
  },
  {
   "cell_type": "code",
   "execution_count": 152,
   "metadata": {},
   "outputs": [],
   "source": [
    "pipeRF_Tuning_OS = Pipeline([\n",
    "    (\"prep\", preprocessor),\n",
    "    (\"algo\", RandomForestClassifier(max_depth = 6, max_features = 0.15, min_samples_leaf = 10, min_samples_split = 5, random_state=42))\n",
    "])"
   ]
  },
  {
   "cell_type": "code",
   "execution_count": 153,
   "metadata": {},
   "outputs": [
    {
     "data": {
      "text/plain": [
       "Pipeline(steps=[('prep',\n",
       "                 ColumnTransformer(transformers=[('numeric',\n",
       "                                                  Pipeline(steps=[('imputer',\n",
       "                                                                   SimpleImputer())]),\n",
       "                                                  ['fireplaces', 'market_value',\n",
       "                                                   'number_of_rooms',\n",
       "                                                   'total_area',\n",
       "                                                   'total_livable_area']),\n",
       "                                                 ('categoric',\n",
       "                                                  Pipeline(steps=[('imputer',\n",
       "                                                                   SimpleImputer(strategy='most_frequent')),\n",
       "                                                                  ('encoder',\n",
       "                                                                   OneHotEncoder(handle_unknown='ignore'))]),\n",
       "                                                  ['basements', 'central_air',\n",
       "                                                   'exterior_condition',\n",
       "                                                   'garage_type',\n",
       "                                                   'interior_condition',\n",
       "                                                   'parcel_shape', 'topography',\n",
       "                                                   'type_heater', 'view_type',\n",
       "                                                   'building_description'])])),\n",
       "                ('algo',\n",
       "                 RandomForestClassifier(max_depth=6, max_features=0.15,\n",
       "                                        min_samples_leaf=10,\n",
       "                                        min_samples_split=5,\n",
       "                                        random_state=42))])"
      ]
     },
     "execution_count": 153,
     "metadata": {},
     "output_type": "execute_result"
    }
   ],
   "source": [
    "pipeRF_Tuning_OS.fit(X_train_OS, y_train_OS)"
   ]
  },
  {
   "cell_type": "code",
   "execution_count": 154,
   "metadata": {},
   "outputs": [],
   "source": [
    "y_train_RF_Fine_TunedOS = pipeRF_Tuning_OS.predict(X_train)"
   ]
  },
  {
   "cell_type": "code",
   "execution_count": 155,
   "metadata": {},
   "outputs": [],
   "source": [
    "y_test_RF_Fine_TunedOS = pipeRF_Tuning_OS.predict(X_test)"
   ]
  },
  {
   "cell_type": "code",
   "execution_count": 156,
   "metadata": {},
   "outputs": [
    {
     "data": {
      "text/plain": [
       "0.9467502177761542"
      ]
     },
     "execution_count": 156,
     "metadata": {},
     "output_type": "execute_result"
    }
   ],
   "source": [
    "accuracy_train_RF_FineTune_OS = accuracy_score(y_train, y_train_RF_Fine_TunedOS)\n",
    "accuracy_train_RF_FineTune_OS"
   ]
  },
  {
   "cell_type": "code",
   "execution_count": 157,
   "metadata": {},
   "outputs": [
    {
     "data": {
      "text/plain": [
       "0.9496459480723839"
      ]
     },
     "execution_count": 157,
     "metadata": {},
     "output_type": "execute_result"
    }
   ],
   "source": [
    "accuracy_test_RF_FineTune_OS = accuracy_score(y_test, y_test_RF_Fine_TunedOS)\n",
    "accuracy_test_RF_FineTune_OS"
   ]
  },
  {
   "cell_type": "code",
   "execution_count": 158,
   "metadata": {},
   "outputs": [
    {
     "data": {
      "text/plain": [
       "0.9501856451766779"
      ]
     },
     "execution_count": 158,
     "metadata": {},
     "output_type": "execute_result"
    }
   ],
   "source": [
    "f1score_train_RF_FineTune_OS = f1_score(y_train, y_train_RF_Fine_TunedOS, average='weighted')\n",
    "f1score_train_RF_FineTune_OS"
   ]
  },
  {
   "cell_type": "code",
   "execution_count": 159,
   "metadata": {},
   "outputs": [
    {
     "data": {
      "text/plain": [
       "0.9527531653515344"
      ]
     },
     "execution_count": 159,
     "metadata": {},
     "output_type": "execute_result"
    }
   ],
   "source": [
    "f1score_test_RF_FineTune_OS = f1_score(y_test, y_test_RF_Fine_TunedOS, average='weighted')\n",
    "f1score_test_RF_FineTune_OS"
   ]
  },
  {
   "cell_type": "code",
   "execution_count": 160,
   "metadata": {},
   "outputs": [
    {
     "name": "stdout",
     "output_type": "stream",
     "text": [
      "              precision    recall  f1-score   support\n",
      "\n",
      "      Bottom       1.00      0.99      1.00     19150\n",
      "Lower Middle       0.99      0.87      0.93     12354\n",
      "      Middle       0.65      0.94      0.77      3306\n",
      "         Top       0.99      0.98      0.99       169\n",
      "Upper Middle       0.85      0.98      0.91       608\n",
      "\n",
      "    accuracy                           0.95     35587\n",
      "   macro avg       0.90      0.95      0.92     35587\n",
      "weighted avg       0.96      0.95      0.95     35587\n",
      "\n"
     ]
    }
   ],
   "source": [
    "print(classification_report(y_train, y_train_RF_Fine_TunedOS))"
   ]
  },
  {
   "cell_type": "code",
   "execution_count": 161,
   "metadata": {},
   "outputs": [
    {
     "name": "stdout",
     "output_type": "stream",
     "text": [
      "              precision    recall  f1-score   support\n",
      "\n",
      "      Bottom       1.00      1.00      1.00      4788\n",
      "Lower Middle       0.99      0.88      0.93      3089\n",
      "      Middle       0.66      0.94      0.78       826\n",
      "         Top       0.98      0.98      0.98        42\n",
      "Upper Middle       0.86      0.97      0.91       152\n",
      "\n",
      "    accuracy                           0.95      8897\n",
      "   macro avg       0.90      0.95      0.92      8897\n",
      "weighted avg       0.96      0.95      0.95      8897\n",
      "\n"
     ]
    }
   ],
   "source": [
    "print(classification_report(y_test, y_test_RF_Fine_TunedOS))"
   ]
  },
  {
   "cell_type": "markdown",
   "metadata": {},
   "source": [
    "# ================================================="
   ]
  },
  {
   "cell_type": "markdown",
   "metadata": {},
   "source": [
    "# Conclusion Model"
   ]
  },
  {
   "cell_type": "code",
   "execution_count": 162,
   "metadata": {},
   "outputs": [],
   "source": [
    "p1 = {'Training KNN Base' : [accuracy_train_KNN_base, f1score_train_KNN_base],\n",
    "'Testing KNN Base' : [accuracy_test_KNN_base, f1score_test_KNN_base],\n",
    "\n",
    "'Training LR Base' : [accuracy_train_LR_base, f1score_train_LR_base],\n",
    "'Testing LR Base' : [accuracy_test_LR_base, f1score_test_LR_base],\n",
    "\n",
    "'Training SVM Base' : [accuracy_train_SVM_base, f1score_train_SVM_base],\n",
    "'Testing SVM Base' : [accuracy_test_SVM_base, f1score_test_SVM_base],\n",
    "\n",
    "'Training DT Base' : [accuracy_train_DT_base, f1score_train_DT_base],\n",
    "'Testing DT Base' : [accuracy_test_DT_base, f1score_test_DT_base],\n",
    "\n",
    "'Training RF Base' : [accuracy_train_RF_base, f1score_train_RF_base],\n",
    "'Testing RF Base' : [accuracy_test_RF_base, f1score_test_RF_base]}\n",
    "\n",
    "p2 = {'Training LR HyperTune' : [accuracy_train_LR_HyperTune, f1score_train_LR_HyperTune],\n",
    "'Testing LR HyperTune' : [accuracy_test_LR_HyperTune, f1score_test_LR_HyperTune],\n",
    "\n",
    "'Training DT HyperTune' : [accuracy_train_DT_HyperTune, f1score_train_DT_HyperTune],\n",
    "'Testing DT HyperTune' : [accuracy_test_DT_HyperTune, f1score_test_DT_HyperTune],\n",
    "\n",
    "'Training RF HyperTune' : [accuracy_train_RF_HyperTune, f1score_train_RF_HyperTune],\n",
    "'Testing RF HyperTune' : [accuracy_test_RF_HyperTune, f1score_test_RF_HyperTune],\n",
    "\n",
    "'Training KNN HyperTune' : [accuracy_train_KNN_HyperTune, f1score_train_KNN_HyperTune],\n",
    "'Testing KNN HyperTune' : [accuracy_test_KNN_HyperTune, f1score_test_KNN_HyperTune]}\n",
    "\n",
    "p3 = {'Training DT FineTune' : [accuracy_train_DT_FineTune, f1score_train_DT_FineTune],\n",
    "'Testing DT FineTune' : [accuracy_test_DT_FineTune, f1score_test_DT_FineTune],\n",
    "\n",
    "'Training RF FineTune' : [accuracy_train_RF_FineTune, f1score_train_RF_FineTune],\n",
    "'Testing RF FineTune' : [accuracy_test_RF_FineTune, f1score_test_RF_FineTune]}\n",
    "\n",
    "p4 = {'Training LR Base OverSampling' : [accuracy_train_LR_base_OS, f1score_train_LR_base_OS],\n",
    "'Testing LR Base OverSampling' : [accuracy_test_LR_base_OS, f1score_test_LR_base_OS],\n",
    "\n",
    "'Training KNN Base OverSampling' : [accuracy_train_KNN_base_OS, f1score_train_KNN_base_OS],\n",
    "'Testing KNN Base OverSampling' : [accuracy_test_KNN_base_OS, f1score_test_KNN_base_OS],\n",
    "\n",
    "'Training DT Base OverSampling' : [accuracy_train_DT_base_OS, f1score_train_DT_base_OS],\n",
    "'Testing DT Base OverSampling' : [accuracy_test_DT_base_OS, f1score_test_DT_base_OS]}\n",
    "\n",
    "p5 = {'Training DT FineTune OverSampling' : [accuracy_train_DT_FineTune_OS, f1score_train_DT_FineTune_OS],\n",
    "'Testing DT FineTune OverSampling' : [accuracy_test_DT_FineTune_OS, f1score_test_DT_FineTune_OS],\n",
    "\n",
    "'Training RF FineTune OverSampling' : [accuracy_train_RF_FineTune_OS, f1score_train_RF_FineTune_OS],\n",
    "'Testing RF FineTune OverSampling' : [accuracy_test_RF_FineTune_OS, f1score_test_RF_FineTune_OS]}"
   ]
  },
  {
   "cell_type": "markdown",
   "metadata": {},
   "source": [
    "## Base Model"
   ]
  },
  {
   "cell_type": "code",
   "execution_count": 163,
   "metadata": {},
   "outputs": [
    {
     "data": {
      "text/html": [
       "<div>\n",
       "<style scoped>\n",
       "    .dataframe tbody tr th:only-of-type {\n",
       "        vertical-align: middle;\n",
       "    }\n",
       "\n",
       "    .dataframe tbody tr th {\n",
       "        vertical-align: top;\n",
       "    }\n",
       "\n",
       "    .dataframe thead th {\n",
       "        text-align: right;\n",
       "    }\n",
       "</style>\n",
       "<table border=\"1\" class=\"dataframe\">\n",
       "  <thead>\n",
       "    <tr style=\"text-align: right;\">\n",
       "      <th></th>\n",
       "      <th>Accuracy</th>\n",
       "      <th>F1-Score</th>\n",
       "    </tr>\n",
       "  </thead>\n",
       "  <tbody>\n",
       "    <tr>\n",
       "      <th>Training KNN Base</th>\n",
       "      <td>0.999578</td>\n",
       "      <td>0.999578</td>\n",
       "    </tr>\n",
       "    <tr>\n",
       "      <th>Testing KNN Base</th>\n",
       "      <td>0.999326</td>\n",
       "      <td>0.999324</td>\n",
       "    </tr>\n",
       "    <tr>\n",
       "      <th>Training LR Base</th>\n",
       "      <td>0.761149</td>\n",
       "      <td>0.733074</td>\n",
       "    </tr>\n",
       "    <tr>\n",
       "      <th>Testing LR Base</th>\n",
       "      <td>0.759132</td>\n",
       "      <td>0.730688</td>\n",
       "    </tr>\n",
       "    <tr>\n",
       "      <th>Training SVM Base</th>\n",
       "      <td>0.961081</td>\n",
       "      <td>0.961391</td>\n",
       "    </tr>\n",
       "    <tr>\n",
       "      <th>Testing SVM Base</th>\n",
       "      <td>0.959874</td>\n",
       "      <td>0.960190</td>\n",
       "    </tr>\n",
       "    <tr>\n",
       "      <th>Training DT Base</th>\n",
       "      <td>1.000000</td>\n",
       "      <td>1.000000</td>\n",
       "    </tr>\n",
       "    <tr>\n",
       "      <th>Testing DT Base</th>\n",
       "      <td>0.999888</td>\n",
       "      <td>0.999888</td>\n",
       "    </tr>\n",
       "    <tr>\n",
       "      <th>Training RF Base</th>\n",
       "      <td>1.000000</td>\n",
       "      <td>1.000000</td>\n",
       "    </tr>\n",
       "    <tr>\n",
       "      <th>Testing RF Base</th>\n",
       "      <td>0.996628</td>\n",
       "      <td>0.996547</td>\n",
       "    </tr>\n",
       "  </tbody>\n",
       "</table>\n",
       "</div>"
      ],
      "text/plain": [
       "                   Accuracy  F1-Score\n",
       "Training KNN Base  0.999578  0.999578\n",
       "Testing KNN Base   0.999326  0.999324\n",
       "Training LR Base   0.761149  0.733074\n",
       "Testing LR Base    0.759132  0.730688\n",
       "Training SVM Base  0.961081  0.961391\n",
       "Testing SVM Base   0.959874  0.960190\n",
       "Training DT Base   1.000000  1.000000\n",
       "Testing DT Base    0.999888  0.999888\n",
       "Training RF Base   1.000000  1.000000\n",
       "Testing RF Base    0.996628  0.996547"
      ]
     },
     "execution_count": 163,
     "metadata": {},
     "output_type": "execute_result"
    }
   ],
   "source": [
    "df_base_model = pd.DataFrame(data=p1, index=['Accuracy', 'F1-Score'])\n",
    "df_base_model.T"
   ]
  },
  {
   "cell_type": "markdown",
   "metadata": {},
   "source": [
    "## Hyper Parameter Tuning"
   ]
  },
  {
   "cell_type": "code",
   "execution_count": 164,
   "metadata": {},
   "outputs": [
    {
     "data": {
      "text/html": [
       "<div>\n",
       "<style scoped>\n",
       "    .dataframe tbody tr th:only-of-type {\n",
       "        vertical-align: middle;\n",
       "    }\n",
       "\n",
       "    .dataframe tbody tr th {\n",
       "        vertical-align: top;\n",
       "    }\n",
       "\n",
       "    .dataframe thead th {\n",
       "        text-align: right;\n",
       "    }\n",
       "</style>\n",
       "<table border=\"1\" class=\"dataframe\">\n",
       "  <thead>\n",
       "    <tr style=\"text-align: right;\">\n",
       "      <th></th>\n",
       "      <th>Accuracy</th>\n",
       "      <th>F1-Score</th>\n",
       "    </tr>\n",
       "  </thead>\n",
       "  <tbody>\n",
       "    <tr>\n",
       "      <th>Training LR HyperTune</th>\n",
       "      <td>0.760334</td>\n",
       "      <td>0.730939</td>\n",
       "    </tr>\n",
       "    <tr>\n",
       "      <th>Testing LR HyperTune</th>\n",
       "      <td>0.756660</td>\n",
       "      <td>0.727092</td>\n",
       "    </tr>\n",
       "    <tr>\n",
       "      <th>Training DT HyperTune</th>\n",
       "      <td>1.000000</td>\n",
       "      <td>1.000000</td>\n",
       "    </tr>\n",
       "    <tr>\n",
       "      <th>Testing DT HyperTune</th>\n",
       "      <td>0.999888</td>\n",
       "      <td>0.999888</td>\n",
       "    </tr>\n",
       "    <tr>\n",
       "      <th>Training RF HyperTune</th>\n",
       "      <td>1.000000</td>\n",
       "      <td>1.000000</td>\n",
       "    </tr>\n",
       "    <tr>\n",
       "      <th>Testing RF HyperTune</th>\n",
       "      <td>0.999888</td>\n",
       "      <td>0.999888</td>\n",
       "    </tr>\n",
       "    <tr>\n",
       "      <th>Training KNN HyperTune</th>\n",
       "      <td>0.999354</td>\n",
       "      <td>0.999354</td>\n",
       "    </tr>\n",
       "    <tr>\n",
       "      <th>Testing KNN HyperTune</th>\n",
       "      <td>0.999326</td>\n",
       "      <td>0.999324</td>\n",
       "    </tr>\n",
       "  </tbody>\n",
       "</table>\n",
       "</div>"
      ],
      "text/plain": [
       "                        Accuracy  F1-Score\n",
       "Training LR HyperTune   0.760334  0.730939\n",
       "Testing LR HyperTune    0.756660  0.727092\n",
       "Training DT HyperTune   1.000000  1.000000\n",
       "Testing DT HyperTune    0.999888  0.999888\n",
       "Training RF HyperTune   1.000000  1.000000\n",
       "Testing RF HyperTune    0.999888  0.999888\n",
       "Training KNN HyperTune  0.999354  0.999354\n",
       "Testing KNN HyperTune   0.999326  0.999324"
      ]
     },
     "execution_count": 164,
     "metadata": {},
     "output_type": "execute_result"
    }
   ],
   "source": [
    "df_hyper_parameter_tuning = pd.DataFrame(data=p2, index=['Accuracy', 'F1-Score'])\n",
    "df_hyper_parameter_tuning.T"
   ]
  },
  {
   "cell_type": "markdown",
   "metadata": {},
   "source": [
    "## Fine Tuning"
   ]
  },
  {
   "cell_type": "code",
   "execution_count": 165,
   "metadata": {},
   "outputs": [
    {
     "data": {
      "text/html": [
       "<div>\n",
       "<style scoped>\n",
       "    .dataframe tbody tr th:only-of-type {\n",
       "        vertical-align: middle;\n",
       "    }\n",
       "\n",
       "    .dataframe tbody tr th {\n",
       "        vertical-align: top;\n",
       "    }\n",
       "\n",
       "    .dataframe thead th {\n",
       "        text-align: right;\n",
       "    }\n",
       "</style>\n",
       "<table border=\"1\" class=\"dataframe\">\n",
       "  <thead>\n",
       "    <tr style=\"text-align: right;\">\n",
       "      <th></th>\n",
       "      <th>Accuracy</th>\n",
       "      <th>F1-Score</th>\n",
       "    </tr>\n",
       "  </thead>\n",
       "  <tbody>\n",
       "    <tr>\n",
       "      <th>Training DT FineTune</th>\n",
       "      <td>0.932447</td>\n",
       "      <td>0.928079</td>\n",
       "    </tr>\n",
       "    <tr>\n",
       "      <th>Testing DT FineTune</th>\n",
       "      <td>0.933798</td>\n",
       "      <td>0.929677</td>\n",
       "    </tr>\n",
       "    <tr>\n",
       "      <th>Training RF FineTune</th>\n",
       "      <td>0.999972</td>\n",
       "      <td>0.999972</td>\n",
       "    </tr>\n",
       "    <tr>\n",
       "      <th>Testing RF FineTune</th>\n",
       "      <td>0.999775</td>\n",
       "      <td>0.999775</td>\n",
       "    </tr>\n",
       "  </tbody>\n",
       "</table>\n",
       "</div>"
      ],
      "text/plain": [
       "                      Accuracy  F1-Score\n",
       "Training DT FineTune  0.932447  0.928079\n",
       "Testing DT FineTune   0.933798  0.929677\n",
       "Training RF FineTune  0.999972  0.999972\n",
       "Testing RF FineTune   0.999775  0.999775"
      ]
     },
     "execution_count": 165,
     "metadata": {},
     "output_type": "execute_result"
    }
   ],
   "source": [
    "df_fine_tuning = pd.DataFrame(data=p3, index=['Accuracy', 'F1-Score'])\n",
    "df_fine_tuning.T"
   ]
  },
  {
   "cell_type": "markdown",
   "metadata": {},
   "source": [
    "## Base Model Over Sampling"
   ]
  },
  {
   "cell_type": "code",
   "execution_count": 166,
   "metadata": {},
   "outputs": [
    {
     "data": {
      "text/html": [
       "<div>\n",
       "<style scoped>\n",
       "    .dataframe tbody tr th:only-of-type {\n",
       "        vertical-align: middle;\n",
       "    }\n",
       "\n",
       "    .dataframe tbody tr th {\n",
       "        vertical-align: top;\n",
       "    }\n",
       "\n",
       "    .dataframe thead th {\n",
       "        text-align: right;\n",
       "    }\n",
       "</style>\n",
       "<table border=\"1\" class=\"dataframe\">\n",
       "  <thead>\n",
       "    <tr style=\"text-align: right;\">\n",
       "      <th></th>\n",
       "      <th>Accuracy</th>\n",
       "      <th>F1-Score</th>\n",
       "    </tr>\n",
       "  </thead>\n",
       "  <tbody>\n",
       "    <tr>\n",
       "      <th>Training LR Base OverSampling</th>\n",
       "      <td>0.473207</td>\n",
       "      <td>0.471328</td>\n",
       "    </tr>\n",
       "    <tr>\n",
       "      <th>Testing LR Base OverSampling</th>\n",
       "      <td>0.473980</td>\n",
       "      <td>0.470011</td>\n",
       "    </tr>\n",
       "    <tr>\n",
       "      <th>Training KNN Base OverSampling</th>\n",
       "      <td>0.999607</td>\n",
       "      <td>0.999607</td>\n",
       "    </tr>\n",
       "    <tr>\n",
       "      <th>Testing KNN Base OverSampling</th>\n",
       "      <td>0.998764</td>\n",
       "      <td>0.998765</td>\n",
       "    </tr>\n",
       "    <tr>\n",
       "      <th>Training DT Base OverSampling</th>\n",
       "      <td>1.000000</td>\n",
       "      <td>1.000000</td>\n",
       "    </tr>\n",
       "    <tr>\n",
       "      <th>Testing DT Base OverSampling</th>\n",
       "      <td>0.999888</td>\n",
       "      <td>0.999888</td>\n",
       "    </tr>\n",
       "  </tbody>\n",
       "</table>\n",
       "</div>"
      ],
      "text/plain": [
       "                                Accuracy  F1-Score\n",
       "Training LR Base OverSampling   0.473207  0.471328\n",
       "Testing LR Base OverSampling    0.473980  0.470011\n",
       "Training KNN Base OverSampling  0.999607  0.999607\n",
       "Testing KNN Base OverSampling   0.998764  0.998765\n",
       "Training DT Base OverSampling   1.000000  1.000000\n",
       "Testing DT Base OverSampling    0.999888  0.999888"
      ]
     },
     "execution_count": 166,
     "metadata": {},
     "output_type": "execute_result"
    }
   ],
   "source": [
    "df_base_model_os = pd.DataFrame(data=p4, index=['Accuracy', 'F1-Score'])\n",
    "df_base_model_os.T"
   ]
  },
  {
   "cell_type": "markdown",
   "metadata": {},
   "source": [
    "## Fine Tuning Over Sampling"
   ]
  },
  {
   "cell_type": "code",
   "execution_count": 167,
   "metadata": {},
   "outputs": [
    {
     "data": {
      "text/html": [
       "<div>\n",
       "<style scoped>\n",
       "    .dataframe tbody tr th:only-of-type {\n",
       "        vertical-align: middle;\n",
       "    }\n",
       "\n",
       "    .dataframe tbody tr th {\n",
       "        vertical-align: top;\n",
       "    }\n",
       "\n",
       "    .dataframe thead th {\n",
       "        text-align: right;\n",
       "    }\n",
       "</style>\n",
       "<table border=\"1\" class=\"dataframe\">\n",
       "  <thead>\n",
       "    <tr style=\"text-align: right;\">\n",
       "      <th></th>\n",
       "      <th>Accuracy</th>\n",
       "      <th>F1-Score</th>\n",
       "    </tr>\n",
       "  </thead>\n",
       "  <tbody>\n",
       "    <tr>\n",
       "      <th>Training DT FineTune OverSampling</th>\n",
       "      <td>0.914042</td>\n",
       "      <td>0.921880</td>\n",
       "    </tr>\n",
       "    <tr>\n",
       "      <th>Testing DT FineTune OverSampling</th>\n",
       "      <td>0.918287</td>\n",
       "      <td>0.925524</td>\n",
       "    </tr>\n",
       "    <tr>\n",
       "      <th>Training RF FineTune OverSampling</th>\n",
       "      <td>0.946750</td>\n",
       "      <td>0.950186</td>\n",
       "    </tr>\n",
       "    <tr>\n",
       "      <th>Testing RF FineTune OverSampling</th>\n",
       "      <td>0.949646</td>\n",
       "      <td>0.952753</td>\n",
       "    </tr>\n",
       "  </tbody>\n",
       "</table>\n",
       "</div>"
      ],
      "text/plain": [
       "                                   Accuracy  F1-Score\n",
       "Training DT FineTune OverSampling  0.914042  0.921880\n",
       "Testing DT FineTune OverSampling   0.918287  0.925524\n",
       "Training RF FineTune OverSampling  0.946750  0.950186\n",
       "Testing RF FineTune OverSampling   0.949646  0.952753"
      ]
     },
     "execution_count": 167,
     "metadata": {},
     "output_type": "execute_result"
    }
   ],
   "source": [
    "df_fine_tuning_os = pd.DataFrame(data=p5, index=['Accuracy', 'F1-Score'])\n",
    "df_fine_tuning_os.T"
   ]
  },
  {
   "cell_type": "markdown",
   "metadata": {},
   "source": [
    "# ================================================="
   ]
  },
  {
   "cell_type": "markdown",
   "metadata": {},
   "source": [
    "# Conclusion"
   ]
  },
  {
   "cell_type": "markdown",
   "metadata": {},
   "source": [
    "Based of these 4 base model we created above, several models with high marks (Strong Learner) are KNN, SVM, DecisionTreeClassifier, RandomForestClassifier. LogisticRegression is having 0.76 Accuracy Score in Train Data and 0.75 on Test Data. After we did Hyper Parameter Tuning, the result is quite similar with the base model. So we decided to do Fine Tuning on the DecisionTreeClassifier Model and achieved Good Learner result with Acccuracy Score 0.93 for Test Data, 0.93 weighted F1 Score and 0.6 macro average. But, Imbalance Class can be found in this Multiclass Target Data, therefore we try to use Random Over Sampling for Minority Class. After we used Random Over Sampling for KNN base model and DT, we get too high (Strong Learner) score with below average Logistic Regression result.  After some Fine Tuning on Over Sampled Data, we achieved better result of 0.94 for Accuracy for Train Data and Test Data, 0.95 weighted score for F1 and 0.92 macro average. In the end, we decided to use Fine Tuning RandomForestClassifier Model with Random Over Sampling to get a balanced data and better macro average score than Fine Tuned RandomForestClassifier without Random Over Sampling."
   ]
  },
  {
   "cell_type": "markdown",
   "metadata": {},
   "source": [
    "# ================================================="
   ]
  },
  {
   "cell_type": "markdown",
   "metadata": {},
   "source": [
    "# Joblib Model Pipeline Fine Tuning RandomForestClassifier"
   ]
  },
  {
   "cell_type": "code",
   "execution_count": 168,
   "metadata": {},
   "outputs": [],
   "source": [
    "import joblib"
   ]
  },
  {
   "cell_type": "code",
   "execution_count": 169,
   "metadata": {},
   "outputs": [
    {
     "data": {
      "text/plain": [
       "['Model_PHL_Building_Classification_RF']"
      ]
     },
     "execution_count": 169,
     "metadata": {},
     "output_type": "execute_result"
    }
   ],
   "source": [
    "joblib.dump(pipeRF_Tuning_OS, 'Model_PHL_Building_Classification_RF')"
   ]
  },
  {
   "cell_type": "markdown",
   "metadata": {},
   "source": [
    "# ================================================="
   ]
  },
  {
   "cell_type": "markdown",
   "metadata": {},
   "source": [
    "# Alternative - Fine Tuning (For Explaining Tree Algorithm)"
   ]
  },
  {
   "cell_type": "markdown",
   "metadata": {},
   "source": [
    "We make another type Model RandomForestClassifier with max_depth = 3, max_features = 0.5, min_samples_leaf = 2, min_samples_split = 4 for easier to explaining Tree Algorithm from RandomForestClassifier."
   ]
  },
  {
   "cell_type": "markdown",
   "metadata": {},
   "source": [
    "## RandomForestClassifier"
   ]
  },
  {
   "cell_type": "code",
   "execution_count": 170,
   "metadata": {},
   "outputs": [],
   "source": [
    "pipeRF_Tuning1 = Pipeline([\n",
    "    (\"prep\", preprocessor),\n",
    "    (\"algo\", RandomForestClassifier(max_depth = 3, max_features = 0.5, min_samples_leaf = 2, min_samples_split = 4, random_state=42))\n",
    "])"
   ]
  },
  {
   "cell_type": "code",
   "execution_count": 171,
   "metadata": {},
   "outputs": [
    {
     "data": {
      "text/plain": [
       "Pipeline(steps=[('prep',\n",
       "                 ColumnTransformer(transformers=[('numeric',\n",
       "                                                  Pipeline(steps=[('imputer',\n",
       "                                                                   SimpleImputer())]),\n",
       "                                                  ['fireplaces', 'market_value',\n",
       "                                                   'number_of_rooms',\n",
       "                                                   'total_area',\n",
       "                                                   'total_livable_area']),\n",
       "                                                 ('categoric',\n",
       "                                                  Pipeline(steps=[('imputer',\n",
       "                                                                   SimpleImputer(strategy='most_frequent')),\n",
       "                                                                  ('encoder',\n",
       "                                                                   OneHotEncoder(handle_unknown='ignore'))]),\n",
       "                                                  ['basements', 'central_air',\n",
       "                                                   'exterior_condition',\n",
       "                                                   'garage_type',\n",
       "                                                   'interior_condition',\n",
       "                                                   'parcel_shape', 'topography',\n",
       "                                                   'type_heater', 'view_type',\n",
       "                                                   'building_description'])])),\n",
       "                ('algo',\n",
       "                 RandomForestClassifier(max_depth=3, max_features=0.5,\n",
       "                                        min_samples_leaf=2, min_samples_split=4,\n",
       "                                        random_state=42))])"
      ]
     },
     "execution_count": 171,
     "metadata": {},
     "output_type": "execute_result"
    }
   ],
   "source": [
    "pipeRF_Tuning1.fit(X_train, y_train)"
   ]
  },
  {
   "cell_type": "code",
   "execution_count": 172,
   "metadata": {},
   "outputs": [],
   "source": [
    "y_RF_Fine_Tuned_train1 = pipeRF_Tuning1.predict(X_train)"
   ]
  },
  {
   "cell_type": "code",
   "execution_count": 173,
   "metadata": {},
   "outputs": [],
   "source": [
    "y_RF_Fine_Tuned_test1 = pipeRF_Tuning1.predict(X_test)"
   ]
  },
  {
   "cell_type": "code",
   "execution_count": 174,
   "metadata": {},
   "outputs": [
    {
     "data": {
      "text/plain": [
       "0.9656616180065755"
      ]
     },
     "execution_count": 174,
     "metadata": {},
     "output_type": "execute_result"
    }
   ],
   "source": [
    "accuracy_score(y_train, y_RF_Fine_Tuned_train1)"
   ]
  },
  {
   "cell_type": "code",
   "execution_count": 175,
   "metadata": {},
   "outputs": [
    {
     "data": {
      "text/plain": [
       "0.9641452174890413"
      ]
     },
     "execution_count": 175,
     "metadata": {},
     "output_type": "execute_result"
    }
   ],
   "source": [
    "accuracy_score(y_test, y_RF_Fine_Tuned_test1)"
   ]
  },
  {
   "cell_type": "code",
   "execution_count": 176,
   "metadata": {},
   "outputs": [
    {
     "name": "stdout",
     "output_type": "stream",
     "text": [
      "              precision    recall  f1-score   support\n",
      "\n",
      "      Bottom       1.00      1.00      1.00      4788\n",
      "Lower Middle       0.96      1.00      0.98      3089\n",
      "      Middle       0.78      0.85      0.82       826\n",
      "         Top       0.00      0.00      0.00        42\n",
      "Upper Middle       0.00      0.00      0.00       152\n",
      "\n",
      "    accuracy                           0.96      8897\n",
      "   macro avg       0.55      0.57      0.56      8897\n",
      "weighted avg       0.94      0.96      0.95      8897\n",
      "\n"
     ]
    }
   ],
   "source": [
    "print(classification_report(y_test, y_RF_Fine_Tuned_test1))"
   ]
  },
  {
   "cell_type": "markdown",
   "metadata": {},
   "source": [
    "# Tree"
   ]
  },
  {
   "cell_type": "code",
   "execution_count": 177,
   "metadata": {},
   "outputs": [],
   "source": [
    "from sklearn.tree import export_graphviz\n",
    "import graphviz\n",
    "from sklearn import tree"
   ]
  },
  {
   "cell_type": "code",
   "execution_count": 178,
   "metadata": {},
   "outputs": [
    {
     "data": {
      "image/png": "[encoded data removed]",
      "text/plain": [
       "<Figure size 9000x2700 with 5 Axes>"
      ]
     },
     "metadata": {},
     "output_type": "display_data"
    }
   ],
   "source": [
    "fig, axes = plt.subplots(nrows = 1 ,ncols = 5,figsize = (10,3), dpi=900)\n",
    "for index in range(0, 5):\n",
    "    tree.plot_tree(pipeRF_Tuning1[1].estimators_[index],\n",
    "                   filled = True,\n",
    "                   ax = axes[index]);\n",
    "\n",
    "    axes[index].set_title('Estimator: ' + str(index), fontsize = 11)\n",
    "fig.savefig('rf_5trees.png')"
   ]
  }
 ],
 "metadata": {
  "kernelspec": {
   "display_name": "Python 3",
   "language": "python",
   "name": "python3"
  },
  "language_info": {
   "codemirror_mode": {
    "name": "ipython",
    "version": 3
   },
   "file_extension": ".py",
   "mimetype": "text/x-python",
   "name": "python",
   "nbconvert_exporter": "python",
   "pygments_lexer": "ipython3",
   "version": "3.8.5"
  }
 },
 "nbformat": 4,
 "nbformat_minor": 4
}
